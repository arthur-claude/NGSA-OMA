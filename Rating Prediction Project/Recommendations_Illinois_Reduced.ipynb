{
 "cells": [
  {
   "cell_type": "code",
   "execution_count": 532,
   "metadata": {},
   "outputs": [],
   "source": [
    "import pandas as pd\n",
    "from tqdm import tqdm\n",
    "import json\n",
    "import numpy as np\n",
    "import time\n",
    "from copy import deepcopy\n",
    "import matplotlib.pyplot as plt\n",
    "from surprise import Reader, Dataset\n",
    "from surprise.model_selection import train_test_split\n",
    "from surprise import SVD, SVDpp, accuracy\n",
    "from surprise import KNNBasic\n",
    "from sklearn.metrics import mean_squared_error\n",
    "from sklearn.metrics import mean_absolute_error\n",
    "import math"
   ]
  },
  {
   "cell_type": "code",
   "execution_count": 66,
   "metadata": {},
   "outputs": [],
   "source": [
    "df_users = pd.read_csv('users_restaurants_illinois_reduced.csv')\n",
    "df_business = pd.read_csv('businesses_restaurants_illinois_reduced.csv')\n",
    "df_ratings = pd.read_csv('ratings_restaurants_illinois_reduced.csv')\n",
    "df_users = df_users.drop(columns=['Unnamed: 0'])\n",
    "df_business = df_business.drop(columns=['Unnamed: 0'])\n",
    "df_ratings = df_ratings.drop(columns=['Unnamed: 0'])"
   ]
  },
  {
   "cell_type": "code",
   "execution_count": 67,
   "metadata": {},
   "outputs": [],
   "source": [
    "df_ratings_train = df_ratings.loc[df_ratings.date < '2018-01-01']\n",
    "df_ratings_test = df_ratings.loc[df_ratings.date >= '2018-01-01']"
   ]
  },
  {
   "cell_type": "code",
   "execution_count": 68,
   "metadata": {},
   "outputs": [],
   "source": [
    "df_ratings_train = df_ratings_train.drop(columns=['date'])\n",
    "df_ratings_test = df_ratings_test.drop(columns=['date'])\n",
    "df_ratings_train = df_ratings_train.reset_index()\n",
    "df_ratings_test = df_ratings_test.reset_index()"
   ]
  },
  {
   "cell_type": "markdown",
   "metadata": {},
   "source": [
    "# Reference measure: Average Rating"
   ]
  },
  {
   "cell_type": "markdown",
   "metadata": {},
   "source": [
    "We evaluate the RMSE and MAE when we predict the average rating of the train set for the entire test set. It's a reference measure."
   ]
  },
  {
   "cell_type": "code",
   "execution_count": 70,
   "metadata": {},
   "outputs": [],
   "source": [
    "average_train = df_ratings_train.rating.mean()\n",
    "pred_average = np.repeat(average_train, df_ratings_test.shape[0])"
   ]
  },
  {
   "cell_type": "code",
   "execution_count": 71,
   "metadata": {},
   "outputs": [
    {
     "data": {
      "text/plain": [
       "2.021967996394059"
      ]
     },
     "execution_count": 71,
     "metadata": {},
     "output_type": "execute_result"
    }
   ],
   "source": [
    "mean_squared_error(df_ratings_test['rating'], pred_average)"
   ]
  },
  {
   "cell_type": "code",
   "execution_count": 72,
   "metadata": {},
   "outputs": [
    {
     "data": {
      "text/plain": [
       "1.2390468228842726"
      ]
     },
     "execution_count": 72,
     "metadata": {},
     "output_type": "execute_result"
    }
   ],
   "source": [
    "mean_absolute_error(df_ratings_test['rating'], pred_average)"
   ]
  },
  {
   "cell_type": "markdown",
   "metadata": {},
   "source": [
    "# Graphs Construction"
   ]
  },
  {
   "cell_type": "code",
   "execution_count": 19,
   "metadata": {},
   "outputs": [],
   "source": [
    "import networkx as nx"
   ]
  },
  {
   "cell_type": "markdown",
   "metadata": {},
   "source": [
    "## Users Graph"
   ]
  },
  {
   "cell_type": "code",
   "execution_count": 73,
   "metadata": {},
   "outputs": [],
   "source": [
    "df_users_graph = df_users[['user_id','friends']]"
   ]
  },
  {
   "cell_type": "code",
   "execution_count": 74,
   "metadata": {},
   "outputs": [],
   "source": [
    "users = []\n",
    "for i in range(df_users_graph.shape[0]):\n",
    "    friends = df_users_graph['friends'][i].split(', ')\n",
    "    users.append([df_users_graph['user_id'][i], friends])"
   ]
  },
  {
   "cell_type": "code",
   "execution_count": 75,
   "metadata": {},
   "outputs": [],
   "source": [
    "G_users = nx.Graph()\n",
    "\n",
    "for i in range(len(users)):\n",
    "    G_users.add_node(users[i][0])\n",
    "\n",
    "nl = list(G_users.nodes())\n",
    "for i in range(len(users)):\n",
    "    user = users[i][0]\n",
    "    friends = users[i][1]\n",
    "    for friend in friends:\n",
    "        if friend in nl:\n",
    "            G_users.add_edge(user, friend)\n"
   ]
  },
  {
   "cell_type": "markdown",
   "metadata": {},
   "source": [
    "## User-Restaurant Bipartite Graph"
   ]
  },
  {
   "cell_type": "code",
   "execution_count": 76,
   "metadata": {},
   "outputs": [],
   "source": [
    "users_list = df_users['user_id'].tolist()\n",
    "restaurants_list = df_business['business_id'].tolist()\n",
    "\n",
    "links_list = []\n",
    "for i in range(df_ratings_train.shape[0]):\n",
    "    links_list.append((df_ratings_train['user_id'][i], df_ratings_train['business_id'][i], df_ratings_train['rating'][i]))\n",
    "    \n",
    "    "
   ]
  },
  {
   "cell_type": "code",
   "execution_count": 77,
   "metadata": {},
   "outputs": [],
   "source": [
    "G_us_re = nx.Graph()\n",
    "\n",
    "G_us_re.add_nodes_from(users_list, bipartite=0)\n",
    "G_us_re.add_nodes_from(restaurants_list, bipartite=1)\n",
    "\n",
    "G_us_re.add_weighted_edges_from(links_list)"
   ]
  },
  {
   "cell_type": "code",
   "execution_count": 78,
   "metadata": {},
   "outputs": [
    {
     "data": {
      "text/plain": [
       "False"
      ]
     },
     "execution_count": 78,
     "metadata": {},
     "output_type": "execute_result"
    }
   ],
   "source": [
    "nx.is_connected(G_us_re)"
   ]
  },
  {
   "cell_type": "code",
   "execution_count": 79,
   "metadata": {},
   "outputs": [],
   "source": [
    "if nx.is_connected(G_us_re):\n",
    "    restaurants_nodes, users_nodes = nx.bipartite.sets(G_us_re)\n",
    "else:\n",
    "    users_nodes = {n for n, d in G_us_re.nodes(data=True) if d['bipartite']==0}\n",
    "    restaurants_nodes = set(G_us_re) - users_nodes"
   ]
  },
  {
   "cell_type": "markdown",
   "metadata": {},
   "source": [
    "# Recommendations"
   ]
  },
  {
   "cell_type": "markdown",
   "metadata": {},
   "source": [
    "## Rating prediction based on User-Restaurant Bipartite Graph"
   ]
  },
  {
   "cell_type": "markdown",
   "metadata": {},
   "source": [
    "The library Surprise allow to build recommendation systems thanks to collaborative filtering, but it does not support large datasets and leads to kernel crashes. We implemented the methods by our own."
   ]
  },
  {
   "cell_type": "code",
   "execution_count": 80,
   "metadata": {},
   "outputs": [],
   "source": [
    "def similarity(u,v,other_nodes, G):\n",
    "    p, a, b = 0, 0, 0\n",
    "    for i in other_nodes:\n",
    "        p += G.get_edge_data(u,i,default={'weight': 0.0})['weight']*G.get_edge_data(v,i,default={'weight': 0.0})['weight']\n",
    "        a += G.get_edge_data(u,i,default={'weight': 0.0})['weight']**2\n",
    "        b += G.get_edge_data(v,i,default={'weight': 0.0})['weight']**2\n",
    "    sim = p/(np.sqrt(a)*np.sqrt(b))\n",
    "    return sim    "
   ]
  },
  {
   "cell_type": "markdown",
   "metadata": {},
   "source": [
    "### User Collaborative Filtering"
   ]
  },
  {
   "cell_type": "markdown",
   "metadata": {},
   "source": [
    "We compute cosine similarities among users."
   ]
  },
  {
   "cell_type": "code",
   "execution_count": 85,
   "metadata": {
    "scrolled": true
   },
   "outputs": [
    {
     "name": "stderr",
     "output_type": "stream",
     "text": [
      "/opt/anaconda3/lib/python3.7/site-packages/ipykernel_launcher.py:7: RuntimeWarning: invalid value encountered in double_scalars\n",
      "  import sys\n"
     ]
    }
   ],
   "source": [
    "ar_similarities_user = np.zeros((len(users_list), len(users_list)))\n",
    "for u in range(len(users_list)):\n",
    "    for v in range(u, len(users_list)):\n",
    "        ar_similarities_user[u][v] = similarity(users_list[u],users_list[v],restaurants_nodes,G_us_re)"
   ]
  },
  {
   "cell_type": "code",
   "execution_count": 86,
   "metadata": {},
   "outputs": [],
   "source": [
    "ar_similarities_user_f = ar_similarities_user + ar_similarities_user.transpose() - np.eye(len(users_list))\n",
    "df_similarities_user = pd.DataFrame(ar_similarities_user_f, columns = users_list, index = users_list)"
   ]
  },
  {
   "cell_type": "markdown",
   "metadata": {},
   "source": [
    "Remark: Some NaN because some users have never published a Rating before the train/test separation date"
   ]
  },
  {
   "cell_type": "code",
   "execution_count": 87,
   "metadata": {},
   "outputs": [],
   "source": [
    "df_similarities_user_na = df_similarities_user.fillna(0.0)"
   ]
  },
  {
   "cell_type": "code",
   "execution_count": 131,
   "metadata": {},
   "outputs": [],
   "source": [
    "df_similarities_user.to_csv('similarities_bipartite_users_withnan.csv')"
   ]
  },
  {
   "cell_type": "code",
   "execution_count": 132,
   "metadata": {},
   "outputs": [],
   "source": [
    "df_similarities_user_na.to_csv('similarities_bipartite_users.csv')"
   ]
  },
  {
   "cell_type": "code",
   "execution_count": 121,
   "metadata": {},
   "outputs": [],
   "source": [
    "def prediction_userCF(df_similarities,u,i):\n",
    "    '''\n",
    "    Returns the predicted rating by user u for restaurant i\n",
    "    \n",
    "    Arguments:\n",
    "        similarities: similarities between users\n",
    "        u: a user\n",
    "        i: a restaurant\n",
    "    '''\n",
    "    n,d = 0,0\n",
    "    pred = 0\n",
    "    for v in users_nodes:\n",
    "        rating_v_i = G_us_re.get_edge_data(v,i,default={'weight': 0.0})['weight']\n",
    "        if rating_v_i != 0:\n",
    "            n += df_similarities[u][v]*rating_v_i\n",
    "            d += df_similarities[u][v]\n",
    "    if d !=0:\n",
    "        pred = n/d\n",
    "    else:\n",
    "        pred = average_train\n",
    "    return pred\n",
    "    "
   ]
  },
  {
   "cell_type": "code",
   "execution_count": 122,
   "metadata": {},
   "outputs": [],
   "source": [
    "def make_pred_userCF(df_ratings_test,df_similarities):\n",
    "    pred = []\n",
    "    for j in range(df_ratings_test.shape[0]):\n",
    "        userid = df_ratings_test['user_id'][j]\n",
    "        businessid = df_ratings_test['business_id'][j]\n",
    "        pred.append(prediction_userCF(df_similarities,userid,businessid))\n",
    "    return pred"
   ]
  },
  {
   "cell_type": "code",
   "execution_count": 123,
   "metadata": {},
   "outputs": [],
   "source": [
    "pred_userCF = make_pred_userCF(df_ratings_test,df_similarities_user_na)"
   ]
  },
  {
   "cell_type": "code",
   "execution_count": 124,
   "metadata": {},
   "outputs": [],
   "source": [
    "#np.sum(df_similarities_user_na.loc[df_similarities_user_na.index == '4mjnkd8oJVCfBKN3i4rB-g'].values)"
   ]
  },
  {
   "cell_type": "code",
   "execution_count": 125,
   "metadata": {},
   "outputs": [
    {
     "data": {
      "text/plain": [
       "1.9495519710745213"
      ]
     },
     "execution_count": 125,
     "metadata": {},
     "output_type": "execute_result"
    }
   ],
   "source": [
    "mean_squared_error(df_ratings_test['rating'], pred_userCF)"
   ]
  },
  {
   "cell_type": "code",
   "execution_count": 126,
   "metadata": {},
   "outputs": [
    {
     "data": {
      "text/plain": [
       "1.173219897170781"
      ]
     },
     "execution_count": 126,
     "metadata": {},
     "output_type": "execute_result"
    }
   ],
   "source": [
    "mean_absolute_error(df_ratings_test['rating'], pred_userCF)"
   ]
  },
  {
   "cell_type": "code",
   "execution_count": 209,
   "metadata": {},
   "outputs": [
    {
     "data": {
      "text/plain": [
       "1527"
      ]
     },
     "execution_count": 209,
     "metadata": {},
     "output_type": "execute_result"
    }
   ],
   "source": [
    "nb_changed_values = df_ratings_test.shape[0]-pred_userCF.count(average_train)\n",
    "nb_changed_values"
   ]
  },
  {
   "cell_type": "markdown",
   "metadata": {},
   "source": [
    "### Item Collaborative Filtering"
   ]
  },
  {
   "cell_type": "code",
   "execution_count": 127,
   "metadata": {},
   "outputs": [
    {
     "name": "stderr",
     "output_type": "stream",
     "text": [
      "/opt/anaconda3/lib/python3.7/site-packages/ipykernel_launcher.py:7: RuntimeWarning: invalid value encountered in double_scalars\n",
      "  import sys\n"
     ]
    }
   ],
   "source": [
    "ar_similarities_rest = np.zeros((len(restaurants_list), len(restaurants_list)))\n",
    "for u in range(len(restaurants_list)):\n",
    "    for v in range(u, len(restaurants_list)):\n",
    "        ar_similarities_rest[u][v] = similarity(restaurants_list[u],restaurants_list[v],users_nodes,G_us_re)"
   ]
  },
  {
   "cell_type": "code",
   "execution_count": 128,
   "metadata": {},
   "outputs": [],
   "source": [
    "ar_similarities_rest_f = ar_similarities_rest + ar_similarities_rest.transpose() - np.eye(len(restaurants_list))\n",
    "df_similarities_rest = pd.DataFrame(ar_similarities_rest_f, columns = restaurants_list, index = restaurants_list)"
   ]
  },
  {
   "cell_type": "code",
   "execution_count": 130,
   "metadata": {},
   "outputs": [],
   "source": [
    "df_similarities_rest_na = df_similarities_rest.fillna(0.0)"
   ]
  },
  {
   "cell_type": "code",
   "execution_count": 235,
   "metadata": {},
   "outputs": [],
   "source": [
    "df_similarities_rest.to_csv('similarities_bipartite_rest_withnan.csv')"
   ]
  },
  {
   "cell_type": "code",
   "execution_count": 236,
   "metadata": {},
   "outputs": [],
   "source": [
    "df_similarities_rest_na.to_csv('similarities_bipartite_rest.csv')"
   ]
  },
  {
   "cell_type": "code",
   "execution_count": 138,
   "metadata": {},
   "outputs": [],
   "source": [
    "def prediction_itemCF(df_similarities,u,i):\n",
    "    '''\n",
    "    Returns the predicted rating by user u for restaurant i\n",
    "    \n",
    "    Arguments:\n",
    "        similarities: similarities between users\n",
    "        u: a user\n",
    "        i: a restaurant\n",
    "    '''\n",
    "    n,d = 0,0\n",
    "    pred = 0\n",
    "    for j in restaurants_nodes:\n",
    "        rating_u_j = G_us_re.get_edge_data(u,j,default={'weight': 0.0})['weight']\n",
    "        if rating_u_j != 0:\n",
    "            n += df_similarities[i][j]*rating_u_j\n",
    "            d += df_similarities[i][j]\n",
    "    if d != 0:\n",
    "        pred = n/d\n",
    "    else:\n",
    "        pred = average_train\n",
    "    return pred\n"
   ]
  },
  {
   "cell_type": "code",
   "execution_count": 139,
   "metadata": {},
   "outputs": [],
   "source": [
    "def make_pred_itemCF(df_ratings_test,df_similarities):\n",
    "    pred = []\n",
    "    for j in range(df_ratings_test.shape[0]):\n",
    "        userid = df_ratings_test['user_id'][j]\n",
    "        businessid = df_ratings_test['business_id'][j]\n",
    "        pred.append(prediction_itemCF(df_similarities,userid,businessid))\n",
    "    return pred"
   ]
  },
  {
   "cell_type": "code",
   "execution_count": 140,
   "metadata": {},
   "outputs": [],
   "source": [
    "pred_itemCF = make_pred_itemCF(df_ratings_test,df_similarities_rest_na)"
   ]
  },
  {
   "cell_type": "code",
   "execution_count": 141,
   "metadata": {},
   "outputs": [
    {
     "data": {
      "text/plain": [
       "2.1562424689639013"
      ]
     },
     "execution_count": 141,
     "metadata": {},
     "output_type": "execute_result"
    }
   ],
   "source": [
    "mean_squared_error(df_ratings_test['rating'], pred_itemCF)"
   ]
  },
  {
   "cell_type": "code",
   "execution_count": 142,
   "metadata": {},
   "outputs": [
    {
     "data": {
      "text/plain": [
       "1.1957432506081938"
      ]
     },
     "execution_count": 142,
     "metadata": {},
     "output_type": "execute_result"
    }
   ],
   "source": [
    "mean_absolute_error(df_ratings_test['rating'], pred_itemCF)"
   ]
  },
  {
   "cell_type": "code",
   "execution_count": 210,
   "metadata": {},
   "outputs": [
    {
     "data": {
      "text/plain": [
       "1527"
      ]
     },
     "execution_count": 210,
     "metadata": {},
     "output_type": "execute_result"
    }
   ],
   "source": [
    "nb_changed_values = df_ratings_test.shape[0]-pred_itemCF.count(average_train)\n",
    "nb_changed_values"
   ]
  },
  {
   "cell_type": "markdown",
   "metadata": {},
   "source": [
    "### Latent Collaborative Filtering"
   ]
  },
  {
   "cell_type": "code",
   "execution_count": 470,
   "metadata": {},
   "outputs": [],
   "source": [
    "reader = Reader(rating_scale = (0.0, 5.0))\n",
    "\n",
    "train_data = Dataset.load_from_df(df_ratings_train[['user_id', 'business_id', 'rating']], reader)\n",
    "test_data = Dataset.load_from_df(df_ratings_test[['user_id', 'business_id', 'rating']], reader)\n",
    "\n",
    "sr_train = train_data.build_full_trainset()\n",
    "sr_test_before = test_data.build_full_trainset()\n",
    "sr_test = sr_test_before.build_testset()\n"
   ]
  },
  {
   "cell_type": "code",
   "execution_count": 471,
   "metadata": {},
   "outputs": [
    {
     "data": {
      "text/plain": [
       "<surprise.prediction_algorithms.matrix_factorization.SVD at 0x166496350>"
      ]
     },
     "execution_count": 471,
     "metadata": {},
     "output_type": "execute_result"
    }
   ],
   "source": [
    "algo_latent = SVD()\n",
    "algo_latent.fit(sr_train)"
   ]
  },
  {
   "cell_type": "code",
   "execution_count": 472,
   "metadata": {},
   "outputs": [],
   "source": [
    "pred_latent = algo_latent.test(sr_test)"
   ]
  },
  {
   "cell_type": "code",
   "execution_count": 513,
   "metadata": {},
   "outputs": [
    {
     "name": "stdout",
     "output_type": "stream",
     "text": [
      "MSE: 1.6826\n"
     ]
    },
    {
     "data": {
      "text/plain": [
       "1.6825817304703514"
      ]
     },
     "execution_count": 513,
     "metadata": {},
     "output_type": "execute_result"
    }
   ],
   "source": [
    "accuracy.mse(pred_latent)"
   ]
  },
  {
   "cell_type": "code",
   "execution_count": 474,
   "metadata": {},
   "outputs": [
    {
     "name": "stdout",
     "output_type": "stream",
     "text": [
      "MAE:  1.0828\n"
     ]
    },
    {
     "data": {
      "text/plain": [
       "1.08284549432576"
      ]
     },
     "execution_count": 474,
     "metadata": {},
     "output_type": "execute_result"
    }
   ],
   "source": [
    "accuracy.mae(pred_latent)"
   ]
  },
  {
   "cell_type": "code",
   "execution_count": 484,
   "metadata": {},
   "outputs": [],
   "source": [
    "pred_latent_list = [pred_latent[i][3] for i in range(len(pred_latent))]"
   ]
  },
  {
   "cell_type": "code",
   "execution_count": 486,
   "metadata": {},
   "outputs": [
    {
     "data": {
      "text/plain": [
       "3745"
      ]
     },
     "execution_count": 486,
     "metadata": {},
     "output_type": "execute_result"
    }
   ],
   "source": [
    "nb_changed_values = df_ratings_test.shape[0]-pred_latent_list.count(average_train)\n",
    "nb_changed_values"
   ]
  },
  {
   "cell_type": "code",
   "execution_count": 533,
   "metadata": {},
   "outputs": [
    {
     "data": {
      "text/plain": [
       "<surprise.prediction_algorithms.matrix_factorization.SVDpp at 0x165f109d0>"
      ]
     },
     "execution_count": 533,
     "metadata": {},
     "output_type": "execute_result"
    }
   ],
   "source": [
    "algo_latent2 = SVDpp()\n",
    "algo_latent2.fit(sr_train)"
   ]
  },
  {
   "cell_type": "code",
   "execution_count": 534,
   "metadata": {},
   "outputs": [],
   "source": [
    "pred_latent2 = algo_latent2.test(sr_test)"
   ]
  },
  {
   "cell_type": "code",
   "execution_count": 535,
   "metadata": {},
   "outputs": [
    {
     "name": "stdout",
     "output_type": "stream",
     "text": [
      "MSE: 1.6626\n"
     ]
    },
    {
     "data": {
      "text/plain": [
       "1.6625911469082673"
      ]
     },
     "execution_count": 535,
     "metadata": {},
     "output_type": "execute_result"
    }
   ],
   "source": [
    "accuracy.mse(pred_latent2)"
   ]
  },
  {
   "cell_type": "code",
   "execution_count": 536,
   "metadata": {},
   "outputs": [
    {
     "name": "stdout",
     "output_type": "stream",
     "text": [
      "MAE:  1.0735\n"
     ]
    },
    {
     "data": {
      "text/plain": [
       "1.0735354229580731"
      ]
     },
     "execution_count": 536,
     "metadata": {},
     "output_type": "execute_result"
    }
   ],
   "source": [
    "accuracy.mae(pred_latent2)"
   ]
  },
  {
   "cell_type": "markdown",
   "metadata": {},
   "source": [
    "## Rating prediction based on User-User Graph"
   ]
  },
  {
   "cell_type": "markdown",
   "metadata": {},
   "source": [
    "#### Jaccard similarity"
   ]
  },
  {
   "cell_type": "code",
   "execution_count": 192,
   "metadata": {},
   "outputs": [],
   "source": [
    "df_similarities_user_uni = pd.DataFrame(columns = users_list, index = users_list)\n",
    "for u in users_list:\n",
    "    for v in users_list:\n",
    "        jac = nx.jaccard_coefficient(G_users, [(u,v)])\n",
    "        for a,b,c in jac:\n",
    "            df_similarities_user_uni[u][v] = c"
   ]
  },
  {
   "cell_type": "code",
   "execution_count": 201,
   "metadata": {},
   "outputs": [],
   "source": [
    "for u in users_list:\n",
    "    df_similarities_user_uni[u][u] = 1.0"
   ]
  },
  {
   "cell_type": "code",
   "execution_count": 220,
   "metadata": {},
   "outputs": [],
   "source": [
    "df_similarities_user_uni.to_csv('similarities_unipartite_jaccard_users.csv')"
   ]
  },
  {
   "cell_type": "code",
   "execution_count": 202,
   "metadata": {},
   "outputs": [],
   "source": [
    "pred_useruser = make_pred_userCF(df_ratings_test,df_similarities_user_uni)\n"
   ]
  },
  {
   "cell_type": "code",
   "execution_count": 203,
   "metadata": {},
   "outputs": [
    {
     "data": {
      "text/plain": [
       "2.079411848348647"
      ]
     },
     "execution_count": 203,
     "metadata": {},
     "output_type": "execute_result"
    }
   ],
   "source": [
    "mean_squared_error(df_ratings_test['rating'], pred_useruser)"
   ]
  },
  {
   "cell_type": "code",
   "execution_count": 204,
   "metadata": {
    "scrolled": true
   },
   "outputs": [
    {
     "data": {
      "text/plain": [
       "1.2313948392566962"
      ]
     },
     "execution_count": 204,
     "metadata": {},
     "output_type": "execute_result"
    }
   ],
   "source": [
    "mean_absolute_error(df_ratings_test['rating'], pred_useruser)"
   ]
  },
  {
   "cell_type": "code",
   "execution_count": 208,
   "metadata": {},
   "outputs": [
    {
     "data": {
      "text/plain": [
       "674"
      ]
     },
     "execution_count": 208,
     "metadata": {},
     "output_type": "execute_result"
    }
   ],
   "source": [
    "nb_changed_values = df_ratings_test.shape[0]-pred_useruser.count(average_train)\n",
    "nb_changed_values"
   ]
  },
  {
   "cell_type": "markdown",
   "metadata": {},
   "source": [
    "#### Other similarity measure: FriendTNS"
   ]
  },
  {
   "cell_type": "code",
   "execution_count": 232,
   "metadata": {},
   "outputs": [],
   "source": [
    "def friendTNS(G_users,u,v):\n",
    "    sim = 0\n",
    "    edges = [e for e in G_users.edges()]\n",
    "    if (u,v) in edges or (v,u) in edges:\n",
    "        sim = 1/(G_users.degree(u)+G_users.degree(v)-1)\n",
    "    else:\n",
    "        sim = 0\n",
    "    return sim "
   ]
  },
  {
   "cell_type": "code",
   "execution_count": 233,
   "metadata": {},
   "outputs": [],
   "source": [
    "ar_similarities_user_uniTNS = np.zeros((len(users_list), len(users_list)))\n",
    "for u in range(len(users_list)):\n",
    "    for v in range(u, len(users_list)):\n",
    "        ar_similarities_user_uniTNS[u][v] = friendTNS(G_users, users_list[u], users_list[v])"
   ]
  },
  {
   "cell_type": "code",
   "execution_count": 238,
   "metadata": {},
   "outputs": [],
   "source": [
    "ar_similarities_user_uniTNS_f = ar_similarities_user_uniTNS + ar_similarities_user_uniTNS.transpose() - np.eye(len(users_list))\n",
    "df_similarities_user_uniTNS = pd.DataFrame(ar_similarities_user_uniTNS_f, columns = users_list, index = users_list)"
   ]
  },
  {
   "cell_type": "code",
   "execution_count": 239,
   "metadata": {},
   "outputs": [],
   "source": [
    "for u in users_list:\n",
    "    df_similarities_user_uniTNS[u][u] = 1.0"
   ]
  },
  {
   "cell_type": "code",
   "execution_count": 241,
   "metadata": {},
   "outputs": [],
   "source": [
    "df_similarities_user_uniTNS.to_csv('similarities_unipartite_TNS_users.csv')"
   ]
  },
  {
   "cell_type": "code",
   "execution_count": 242,
   "metadata": {},
   "outputs": [],
   "source": [
    "pred_useruserTNS = make_pred_userCF(df_ratings_test,df_similarities_user_uniTNS)"
   ]
  },
  {
   "cell_type": "code",
   "execution_count": 243,
   "metadata": {},
   "outputs": [
    {
     "data": {
      "text/plain": [
       "2.041387630879022"
      ]
     },
     "execution_count": 243,
     "metadata": {},
     "output_type": "execute_result"
    }
   ],
   "source": [
    "mean_squared_error(df_ratings_test['rating'], pred_useruserTNS)"
   ]
  },
  {
   "cell_type": "code",
   "execution_count": 244,
   "metadata": {},
   "outputs": [
    {
     "data": {
      "text/plain": [
       "1.2289860275463496"
      ]
     },
     "execution_count": 244,
     "metadata": {},
     "output_type": "execute_result"
    }
   ],
   "source": [
    "mean_absolute_error(df_ratings_test['rating'], pred_useruserTNS)"
   ]
  },
  {
   "cell_type": "code",
   "execution_count": 245,
   "metadata": {},
   "outputs": [
    {
     "data": {
      "text/plain": [
       "269"
      ]
     },
     "execution_count": 245,
     "metadata": {},
     "output_type": "execute_result"
    }
   ],
   "source": [
    "nb_changed_values = df_ratings_test.shape[0]-pred_useruserTNS.count(average_train)\n",
    "nb_changed_values"
   ]
  },
  {
   "cell_type": "markdown",
   "metadata": {},
   "source": [
    "Remark:"
   ]
  },
  {
   "cell_type": "code",
   "execution_count": 227,
   "metadata": {},
   "outputs": [
    {
     "data": {
      "text/plain": [
       "1812"
      ]
     },
     "execution_count": 227,
     "metadata": {},
     "output_type": "execute_result"
    }
   ],
   "source": [
    "len([a for a in nx.isolates(G_users)])"
   ]
  },
  {
   "cell_type": "markdown",
   "metadata": {},
   "source": [
    "We have 1812 users without any friend. That's why the prediction using the unipartite graph is not really performant."
   ]
  },
  {
   "cell_type": "markdown",
   "metadata": {},
   "source": [
    "## Rating prediction based on Multi Graph"
   ]
  },
  {
   "cell_type": "markdown",
   "metadata": {},
   "source": [
    "We will use our different similarity matrices in order to develop a better recommendation system based on our two users similarity matrices."
   ]
  },
  {
   "cell_type": "code",
   "execution_count": 246,
   "metadata": {},
   "outputs": [],
   "source": [
    "from sklearn.preprocessing import MinMaxScaler"
   ]
  },
  {
   "cell_type": "code",
   "execution_count": 256,
   "metadata": {},
   "outputs": [],
   "source": [
    "df_1 = pd.read_csv('similarities_bipartite_users.csv')\n",
    "df_2 = pd.read_csv('similarities_unipartite_TNS_users.csv')\n",
    "df_1 = df_1.set_index('Unnamed: 0')\n",
    "df_2 = df_2.set_index('Unnamed: 0')"
   ]
  },
  {
   "cell_type": "code",
   "execution_count": 257,
   "metadata": {},
   "outputs": [],
   "source": [
    "#Normalization of our similarity matrices\n",
    "ar_1 = df_1.values\n",
    "std1 = ar_1.std(ddof=1)\n",
    "mean1 = ar_1.mean()\n",
    "ar_1 = (ar_1-mean1)/std1\n",
    "df_sim_1 = pd.DataFrame(ar_1, columns = users_list, index = users_list)\n",
    "\n",
    "scaler = MinMaxScaler()\n",
    "df_sim_1_sc = pd.DataFrame(scaler.fit_transform(df_sim_1), columns=df_sim_1.columns, index=df_sim_1.index)\n"
   ]
  },
  {
   "cell_type": "code",
   "execution_count": 258,
   "metadata": {},
   "outputs": [],
   "source": [
    "ar_2 = df_2.values\n",
    "std2 = ar_2.std(ddof=1)\n",
    "mean2 = ar_2.mean()\n",
    "ar_2 = (ar_2-mean2)/std2\n",
    "df_sim_2 = pd.DataFrame(ar_2, columns = users_list, index = users_list)\n",
    "\n",
    "scaler = MinMaxScaler()\n",
    "df_sim_2_sc = pd.DataFrame(scaler.fit_transform(df_sim_2), columns=df_sim_2.columns, index=df_sim_2.index)\n"
   ]
  },
  {
   "cell_type": "code",
   "execution_count": 334,
   "metadata": {},
   "outputs": [],
   "source": [
    "def rating_u_i(u,i,G_us_re,G_users,df_sim_1_sc,df_sim_2_sc,average_train):\n",
    "    A = (G_users.degree(u)*G_users.number_of_nodes())/nx.adjacency_matrix(G_users).count_nonzero()\n",
    "    R = (G_us_re.degree(u)*G_users.number_of_nodes())/G_us_re.number_of_edges()\n",
    "    if A+R !=0:\n",
    "        r = R/(A+R)\n",
    "    else:\n",
    "        r=1/2\n",
    "    similarities_1 = np.asarray(df_sim_1_sc[u])\n",
    "    similarities_2 = np.asarray(df_sim_2_sc[u])\n",
    "    ar_sim = r*similarities_1 + (1-r)*similarities_2\n",
    "    \n",
    "    n,d = 0,0\n",
    "    pred = 0\n",
    "    for v in users_list:\n",
    "        index_v = users_list.index(v)\n",
    "        rating_v_i = G_us_re.get_edge_data(v,i,default={'weight': 0.0})['weight']\n",
    "        if rating_v_i != 0:\n",
    "            n += ar_sim[index_v]*rating_v_i\n",
    "            d += ar_sim[index_v]\n",
    "    if d !=0:\n",
    "        pred = n/d\n",
    "    else:\n",
    "        pred = average_train\n",
    "    return pred\n",
    "    "
   ]
  },
  {
   "cell_type": "code",
   "execution_count": 335,
   "metadata": {},
   "outputs": [],
   "source": [
    "def rating_predictions(df_ratings_test,G_us_re,G_users,df_sim_1_sc,df_sim_2_sc,average_train):\n",
    "    pred = []\n",
    "    for z in range(df_ratings_test.shape[0]):\n",
    "        userid = df_ratings_test['user_id'][z]\n",
    "        businessid = df_ratings_test['business_id'][z]\n",
    "        pred.append(rating_u_i(userid,businessid,G_us_re,G_users,df_sim_1_sc,df_sim_2_sc,average_train))\n",
    "    return pred"
   ]
  },
  {
   "cell_type": "code",
   "execution_count": 336,
   "metadata": {},
   "outputs": [],
   "source": [
    "pred_multi = rating_predictions(df_ratings_test,G_us_re,G_users,df_sim_1_sc,df_sim_2_sc,average_train)\n"
   ]
  },
  {
   "cell_type": "code",
   "execution_count": 338,
   "metadata": {},
   "outputs": [
    {
     "data": {
      "text/plain": [
       "1.9435698948439872"
      ]
     },
     "execution_count": 338,
     "metadata": {},
     "output_type": "execute_result"
    }
   ],
   "source": [
    "mean_squared_error(df_ratings_test['rating'], pred_multi)"
   ]
  },
  {
   "cell_type": "code",
   "execution_count": 339,
   "metadata": {},
   "outputs": [
    {
     "data": {
      "text/plain": [
       "1.1687180289592196"
      ]
     },
     "execution_count": 339,
     "metadata": {},
     "output_type": "execute_result"
    }
   ],
   "source": [
    "mean_absolute_error(df_ratings_test['rating'], pred_multi)"
   ]
  },
  {
   "cell_type": "code",
   "execution_count": 340,
   "metadata": {},
   "outputs": [
    {
     "data": {
      "text/plain": [
       "1592"
      ]
     },
     "execution_count": 340,
     "metadata": {},
     "output_type": "execute_result"
    }
   ],
   "source": [
    "nb_changed_values = df_ratings_test.shape[0]-pred_multi.count(average_train)\n",
    "nb_changed_values"
   ]
  },
  {
   "cell_type": "code",
   "execution_count": 459,
   "metadata": {},
   "outputs": [],
   "source": [
    "df_ratings_test_pred = df_ratings_test[['user_id','business_id','rating']]\n",
    "df_ratings_test_pred['predicted'] = pred_multi"
   ]
  },
  {
   "cell_type": "code",
   "execution_count": 460,
   "metadata": {},
   "outputs": [
    {
     "data": {
      "text/html": [
       "<div>\n",
       "<style scoped>\n",
       "    .dataframe tbody tr th:only-of-type {\n",
       "        vertical-align: middle;\n",
       "    }\n",
       "\n",
       "    .dataframe tbody tr th {\n",
       "        vertical-align: top;\n",
       "    }\n",
       "\n",
       "    .dataframe thead th {\n",
       "        text-align: right;\n",
       "    }\n",
       "</style>\n",
       "<table border=\"1\" class=\"dataframe\">\n",
       "  <thead>\n",
       "    <tr style=\"text-align: right;\">\n",
       "      <th></th>\n",
       "      <th>user_id</th>\n",
       "      <th>business_id</th>\n",
       "      <th>rating</th>\n",
       "      <th>predicted</th>\n",
       "    </tr>\n",
       "  </thead>\n",
       "  <tbody>\n",
       "    <tr>\n",
       "      <td>0</td>\n",
       "      <td>6X0i-oGUbh5DZdTHzFuKfg</td>\n",
       "      <td>u8C8pRvaHXg3PgDrsUHJHQ</td>\n",
       "      <td>5.0</td>\n",
       "      <td>3.779700</td>\n",
       "    </tr>\n",
       "    <tr>\n",
       "      <td>1</td>\n",
       "      <td>6X0i-oGUbh5DZdTHzFuKfg</td>\n",
       "      <td>dHkbBWmXXjaO_-9BgQyEPg</td>\n",
       "      <td>1.0</td>\n",
       "      <td>3.617508</td>\n",
       "    </tr>\n",
       "    <tr>\n",
       "      <td>2</td>\n",
       "      <td>iQt3ya8qaVJ347rJi5jSmA</td>\n",
       "      <td>dIZcPB3CtNjMn4O_p8QFxw</td>\n",
       "      <td>4.0</td>\n",
       "      <td>4.087520</td>\n",
       "    </tr>\n",
       "    <tr>\n",
       "      <td>3</td>\n",
       "      <td>iQt3ya8qaVJ347rJi5jSmA</td>\n",
       "      <td>i_t8WTwztuHweRqQ89hmuQ</td>\n",
       "      <td>4.0</td>\n",
       "      <td>3.439996</td>\n",
       "    </tr>\n",
       "    <tr>\n",
       "      <td>4</td>\n",
       "      <td>iQt3ya8qaVJ347rJi5jSmA</td>\n",
       "      <td>f_CDR6H4QL1K3SeaBe7r3g</td>\n",
       "      <td>3.0</td>\n",
       "      <td>3.540818</td>\n",
       "    </tr>\n",
       "    <tr>\n",
       "      <td>...</td>\n",
       "      <td>...</td>\n",
       "      <td>...</td>\n",
       "      <td>...</td>\n",
       "      <td>...</td>\n",
       "    </tr>\n",
       "    <tr>\n",
       "      <td>3929</td>\n",
       "      <td>VO42jNnadblgtODxPYVDRA</td>\n",
       "      <td>k6m3Msok7bto6biv5guEzg</td>\n",
       "      <td>2.0</td>\n",
       "      <td>3.617508</td>\n",
       "    </tr>\n",
       "    <tr>\n",
       "      <td>3930</td>\n",
       "      <td>nlHtklaFE5gfKCd6K-jeuQ</td>\n",
       "      <td>KGpsB2dsdkxl8SGVUlJbZw</td>\n",
       "      <td>1.0</td>\n",
       "      <td>3.617508</td>\n",
       "    </tr>\n",
       "    <tr>\n",
       "      <td>3931</td>\n",
       "      <td>1LtJ5w7YaxaN0equ3Oq6pw</td>\n",
       "      <td>dIUHCuiAlzkxfgCEOtky8w</td>\n",
       "      <td>5.0</td>\n",
       "      <td>3.617508</td>\n",
       "    </tr>\n",
       "    <tr>\n",
       "      <td>3932</td>\n",
       "      <td>EeOcpXst4ihchMBvNkAoUA</td>\n",
       "      <td>dIUHCuiAlzkxfgCEOtky8w</td>\n",
       "      <td>5.0</td>\n",
       "      <td>3.617508</td>\n",
       "    </tr>\n",
       "    <tr>\n",
       "      <td>3933</td>\n",
       "      <td>36TpSKvNT8nKVMUe4OFncw</td>\n",
       "      <td>RAJUQvRLopFmIklzqaUYeA</td>\n",
       "      <td>3.0</td>\n",
       "      <td>3.617508</td>\n",
       "    </tr>\n",
       "  </tbody>\n",
       "</table>\n",
       "<p>3934 rows × 4 columns</p>\n",
       "</div>"
      ],
      "text/plain": [
       "                     user_id             business_id  rating  predicted\n",
       "0     6X0i-oGUbh5DZdTHzFuKfg  u8C8pRvaHXg3PgDrsUHJHQ     5.0   3.779700\n",
       "1     6X0i-oGUbh5DZdTHzFuKfg  dHkbBWmXXjaO_-9BgQyEPg     1.0   3.617508\n",
       "2     iQt3ya8qaVJ347rJi5jSmA  dIZcPB3CtNjMn4O_p8QFxw     4.0   4.087520\n",
       "3     iQt3ya8qaVJ347rJi5jSmA  i_t8WTwztuHweRqQ89hmuQ     4.0   3.439996\n",
       "4     iQt3ya8qaVJ347rJi5jSmA  f_CDR6H4QL1K3SeaBe7r3g     3.0   3.540818\n",
       "...                      ...                     ...     ...        ...\n",
       "3929  VO42jNnadblgtODxPYVDRA  k6m3Msok7bto6biv5guEzg     2.0   3.617508\n",
       "3930  nlHtklaFE5gfKCd6K-jeuQ  KGpsB2dsdkxl8SGVUlJbZw     1.0   3.617508\n",
       "3931  1LtJ5w7YaxaN0equ3Oq6pw  dIUHCuiAlzkxfgCEOtky8w     5.0   3.617508\n",
       "3932  EeOcpXst4ihchMBvNkAoUA  dIUHCuiAlzkxfgCEOtky8w     5.0   3.617508\n",
       "3933  36TpSKvNT8nKVMUe4OFncw  RAJUQvRLopFmIklzqaUYeA     3.0   3.617508\n",
       "\n",
       "[3934 rows x 4 columns]"
      ]
     },
     "execution_count": 460,
     "metadata": {},
     "output_type": "execute_result"
    }
   ],
   "source": [
    "df_ratings_test_pred"
   ]
  },
  {
   "cell_type": "markdown",
   "metadata": {},
   "source": [
    "## Rating prediction based on Multi Graph: Improvement"
   ]
  },
  {
   "cell_type": "markdown",
   "metadata": {},
   "source": [
    "There are too many ratings that are not predicted (set to average_train)."
   ]
  },
  {
   "cell_type": "code",
   "execution_count": 408,
   "metadata": {},
   "outputs": [],
   "source": [
    "average_users = []\n",
    "for u in users_list:\n",
    "    avg = df_ratings_train.loc[df_ratings_train['user_id']==u].rating.mean()\n",
    "    if math.isnan(avg):\n",
    "        average_users.append(average_train)\n",
    "    else:\n",
    "        average_users.append(avg)\n"
   ]
  },
  {
   "cell_type": "code",
   "execution_count": 468,
   "metadata": {},
   "outputs": [
    {
     "data": {
      "text/plain": [
       "353"
      ]
     },
     "execution_count": 468,
     "metadata": {},
     "output_type": "execute_result"
    }
   ],
   "source": [
    "average_users.count(average_train)"
   ]
  },
  {
   "cell_type": "code",
   "execution_count": 448,
   "metadata": {},
   "outputs": [],
   "source": [
    "def rating_u_i_imp(u,i,G_us_re,G_users,df_sim_1_sc,df_sim_2_sc,average_users):\n",
    "    A = (G_users.degree(u)*G_users.number_of_nodes())/nx.adjacency_matrix(G_users).count_nonzero()\n",
    "    R = (G_us_re.degree(u)*G_users.number_of_nodes())/G_us_re.number_of_edges()\n",
    "    if A+R !=0:\n",
    "        r = R/(A+R)\n",
    "    else:\n",
    "        r=1/2\n",
    "    similarities_1 = np.asarray(df_sim_1_sc[u])\n",
    "    similarities_2 = np.asarray(df_sim_2_sc[u])\n",
    "    ar_sim = r*similarities_1 + (1-r)*similarities_2\n",
    "    \n",
    "    index_u = users_list.index(u)\n",
    "    avg_u = average_users[index_u]\n",
    "    \n",
    "    n,d = 0,0\n",
    "    pred = avg_u\n",
    "    for v in users_list:\n",
    "        index_v = users_list.index(v)\n",
    "        avg_v = average_users[index_v]\n",
    "        rating_v_i = G_us_re.get_edge_data(v,i,default={'weight': 0.0})['weight']\n",
    "        if rating_v_i != 0:\n",
    "            n += ar_sim[index_v]*abs(rating_v_i - avg_v)\n",
    "            d += ar_sim[index_v]\n",
    "    if d !=0:\n",
    "        pred += n/d\n",
    "    return pred\n",
    "    "
   ]
  },
  {
   "cell_type": "code",
   "execution_count": 449,
   "metadata": {},
   "outputs": [],
   "source": [
    "def rating_predictions_imp(df_ratings_test,G_us_re,G_users,df_sim_1_sc,df_sim_2_sc,average_users):\n",
    "    pred = []\n",
    "    for z in range(df_ratings_test.shape[0]):\n",
    "        userid = df_ratings_test['user_id'][z]\n",
    "        businessid = df_ratings_test['business_id'][z]\n",
    "        pred.append(rating_u_i_imp(userid,businessid,G_us_re,G_users,df_sim_1_sc,df_sim_2_sc,average_users))\n",
    "    return pred"
   ]
  },
  {
   "cell_type": "code",
   "execution_count": 450,
   "metadata": {},
   "outputs": [],
   "source": [
    "pred_multi_imp = rating_predictions_imp(df_ratings_test,G_us_re,G_users,df_sim_1_sc,df_sim_2_sc,average_users)\n"
   ]
  },
  {
   "cell_type": "code",
   "execution_count": 451,
   "metadata": {},
   "outputs": [
    {
     "data": {
      "text/plain": [
       "2.5195779609591726"
      ]
     },
     "execution_count": 451,
     "metadata": {},
     "output_type": "execute_result"
    }
   ],
   "source": [
    "mean_squared_error(df_ratings_test['rating'], pred_multi_imp)"
   ]
  },
  {
   "cell_type": "code",
   "execution_count": 452,
   "metadata": {},
   "outputs": [
    {
     "data": {
      "text/plain": [
       "1.267716091784767"
      ]
     },
     "execution_count": 452,
     "metadata": {},
     "output_type": "execute_result"
    }
   ],
   "source": [
    "mean_absolute_error(df_ratings_test['rating'], pred_multi_imp)"
   ]
  },
  {
   "cell_type": "code",
   "execution_count": 456,
   "metadata": {},
   "outputs": [
    {
     "data": {
      "text/plain": [
       "2149"
      ]
     },
     "execution_count": 456,
     "metadata": {},
     "output_type": "execute_result"
    }
   ],
   "source": [
    "nb_changed_values = df_ratings_test.shape[0]-pred_multi_imp.count(average_train)\n",
    "nb_changed_values"
   ]
  },
  {
   "cell_type": "code",
   "execution_count": 461,
   "metadata": {},
   "outputs": [],
   "source": [
    "df_ratings_test_pred_2 = df_ratings_test[['user_id','business_id','rating']]\n",
    "df_ratings_test_pred_2['predicted'] = pred_multi_imp"
   ]
  },
  {
   "cell_type": "code",
   "execution_count": 462,
   "metadata": {},
   "outputs": [
    {
     "data": {
      "text/html": [
       "<div>\n",
       "<style scoped>\n",
       "    .dataframe tbody tr th:only-of-type {\n",
       "        vertical-align: middle;\n",
       "    }\n",
       "\n",
       "    .dataframe tbody tr th {\n",
       "        vertical-align: top;\n",
       "    }\n",
       "\n",
       "    .dataframe thead th {\n",
       "        text-align: right;\n",
       "    }\n",
       "</style>\n",
       "<table border=\"1\" class=\"dataframe\">\n",
       "  <thead>\n",
       "    <tr style=\"text-align: right;\">\n",
       "      <th></th>\n",
       "      <th>user_id</th>\n",
       "      <th>business_id</th>\n",
       "      <th>rating</th>\n",
       "      <th>predicted</th>\n",
       "    </tr>\n",
       "  </thead>\n",
       "  <tbody>\n",
       "    <tr>\n",
       "      <td>0</td>\n",
       "      <td>6X0i-oGUbh5DZdTHzFuKfg</td>\n",
       "      <td>u8C8pRvaHXg3PgDrsUHJHQ</td>\n",
       "      <td>5.0</td>\n",
       "      <td>3.618027</td>\n",
       "    </tr>\n",
       "    <tr>\n",
       "      <td>1</td>\n",
       "      <td>6X0i-oGUbh5DZdTHzFuKfg</td>\n",
       "      <td>dHkbBWmXXjaO_-9BgQyEPg</td>\n",
       "      <td>1.0</td>\n",
       "      <td>2.714286</td>\n",
       "    </tr>\n",
       "    <tr>\n",
       "      <td>2</td>\n",
       "      <td>iQt3ya8qaVJ347rJi5jSmA</td>\n",
       "      <td>dIZcPB3CtNjMn4O_p8QFxw</td>\n",
       "      <td>4.0</td>\n",
       "      <td>4.450527</td>\n",
       "    </tr>\n",
       "    <tr>\n",
       "      <td>3</td>\n",
       "      <td>iQt3ya8qaVJ347rJi5jSmA</td>\n",
       "      <td>i_t8WTwztuHweRqQ89hmuQ</td>\n",
       "      <td>4.0</td>\n",
       "      <td>4.433910</td>\n",
       "    </tr>\n",
       "    <tr>\n",
       "      <td>4</td>\n",
       "      <td>iQt3ya8qaVJ347rJi5jSmA</td>\n",
       "      <td>f_CDR6H4QL1K3SeaBe7r3g</td>\n",
       "      <td>3.0</td>\n",
       "      <td>4.764313</td>\n",
       "    </tr>\n",
       "    <tr>\n",
       "      <td>...</td>\n",
       "      <td>...</td>\n",
       "      <td>...</td>\n",
       "      <td>...</td>\n",
       "      <td>...</td>\n",
       "    </tr>\n",
       "    <tr>\n",
       "      <td>3929</td>\n",
       "      <td>VO42jNnadblgtODxPYVDRA</td>\n",
       "      <td>k6m3Msok7bto6biv5guEzg</td>\n",
       "      <td>2.0</td>\n",
       "      <td>3.617508</td>\n",
       "    </tr>\n",
       "    <tr>\n",
       "      <td>3930</td>\n",
       "      <td>nlHtklaFE5gfKCd6K-jeuQ</td>\n",
       "      <td>KGpsB2dsdkxl8SGVUlJbZw</td>\n",
       "      <td>1.0</td>\n",
       "      <td>3.617508</td>\n",
       "    </tr>\n",
       "    <tr>\n",
       "      <td>3931</td>\n",
       "      <td>1LtJ5w7YaxaN0equ3Oq6pw</td>\n",
       "      <td>dIUHCuiAlzkxfgCEOtky8w</td>\n",
       "      <td>5.0</td>\n",
       "      <td>3.617508</td>\n",
       "    </tr>\n",
       "    <tr>\n",
       "      <td>3932</td>\n",
       "      <td>EeOcpXst4ihchMBvNkAoUA</td>\n",
       "      <td>dIUHCuiAlzkxfgCEOtky8w</td>\n",
       "      <td>5.0</td>\n",
       "      <td>3.617508</td>\n",
       "    </tr>\n",
       "    <tr>\n",
       "      <td>3933</td>\n",
       "      <td>36TpSKvNT8nKVMUe4OFncw</td>\n",
       "      <td>RAJUQvRLopFmIklzqaUYeA</td>\n",
       "      <td>3.0</td>\n",
       "      <td>3.617508</td>\n",
       "    </tr>\n",
       "  </tbody>\n",
       "</table>\n",
       "<p>3934 rows × 4 columns</p>\n",
       "</div>"
      ],
      "text/plain": [
       "                     user_id             business_id  rating  predicted\n",
       "0     6X0i-oGUbh5DZdTHzFuKfg  u8C8pRvaHXg3PgDrsUHJHQ     5.0   3.618027\n",
       "1     6X0i-oGUbh5DZdTHzFuKfg  dHkbBWmXXjaO_-9BgQyEPg     1.0   2.714286\n",
       "2     iQt3ya8qaVJ347rJi5jSmA  dIZcPB3CtNjMn4O_p8QFxw     4.0   4.450527\n",
       "3     iQt3ya8qaVJ347rJi5jSmA  i_t8WTwztuHweRqQ89hmuQ     4.0   4.433910\n",
       "4     iQt3ya8qaVJ347rJi5jSmA  f_CDR6H4QL1K3SeaBe7r3g     3.0   4.764313\n",
       "...                      ...                     ...     ...        ...\n",
       "3929  VO42jNnadblgtODxPYVDRA  k6m3Msok7bto6biv5guEzg     2.0   3.617508\n",
       "3930  nlHtklaFE5gfKCd6K-jeuQ  KGpsB2dsdkxl8SGVUlJbZw     1.0   3.617508\n",
       "3931  1LtJ5w7YaxaN0equ3Oq6pw  dIUHCuiAlzkxfgCEOtky8w     5.0   3.617508\n",
       "3932  EeOcpXst4ihchMBvNkAoUA  dIUHCuiAlzkxfgCEOtky8w     5.0   3.617508\n",
       "3933  36TpSKvNT8nKVMUe4OFncw  RAJUQvRLopFmIklzqaUYeA     3.0   3.617508\n",
       "\n",
       "[3934 rows x 4 columns]"
      ]
     },
     "execution_count": 462,
     "metadata": {},
     "output_type": "execute_result"
    }
   ],
   "source": [
    "df_ratings_test_pred_2"
   ]
  },
  {
   "cell_type": "markdown",
   "metadata": {},
   "source": [
    "# Essai combinaison Multi-SVD"
   ]
  },
  {
   "cell_type": "code",
   "execution_count": 500,
   "metadata": {},
   "outputs": [
    {
     "data": {
      "text/plain": [
       "user_id         pFRE2mNCQvx9DUU542c6Dw\n",
       "business_id     3I3gl-WS7CBa41A4BDA7yw\n",
       "rating                               5\n",
       "pred_SVD                       3.97414\n",
       "pred_multi_1                   3.61751\n",
       "pred_multi_2                   4.10101\n",
       "Name: 700, dtype: object"
      ]
     },
     "execution_count": 500,
     "metadata": {},
     "output_type": "execute_result"
    }
   ],
   "source": [
    "df_comp = df_ratings_test[['user_id','business_id','rating']]\n",
    "df_comp['pred_SVD'] = pred_latent_list\n",
    "df_comp['pred_multi_1'] = pred_multi\n",
    "df_comp['pred_multi_2'] = pred_multi_imp\n",
    "df_comp.loc[700,:]"
   ]
  },
  {
   "cell_type": "code",
   "execution_count": 521,
   "metadata": {},
   "outputs": [],
   "source": [
    "def rating_prediction_multi_SVD(pred_svd,pred_mult):\n",
    "    pred = []\n",
    "    for z in range(df_ratings_test.shape[0]):\n",
    "        if pred_mult[z] == average_train:\n",
    "            pred.append(pred_svd[z])\n",
    "        else:\n",
    "            pred.append(pred_mult[z])\n",
    "    return pred"
   ]
  },
  {
   "cell_type": "code",
   "execution_count": 522,
   "metadata": {},
   "outputs": [],
   "source": [
    "pred_test1 = rating_prediction_multi_SVD(pred_latent_list,pred_multi)\n",
    "pred_test2 = rating_prediction_multi_SVD(pred_latent_list,pred_multi_imp)"
   ]
  },
  {
   "cell_type": "code",
   "execution_count": 523,
   "metadata": {},
   "outputs": [
    {
     "data": {
      "text/plain": [
       "1.800508629016553"
      ]
     },
     "execution_count": 523,
     "metadata": {},
     "output_type": "execute_result"
    }
   ],
   "source": [
    "mean_squared_error(df_ratings_test['rating'], pred_test1)"
   ]
  },
  {
   "cell_type": "code",
   "execution_count": 524,
   "metadata": {},
   "outputs": [
    {
     "data": {
      "text/plain": [
       "1.0957387410134505"
      ]
     },
     "execution_count": 524,
     "metadata": {},
     "output_type": "execute_result"
    }
   ],
   "source": [
    "mean_absolute_error(df_ratings_test['rating'], pred_test1)"
   ]
  },
  {
   "cell_type": "code",
   "execution_count": 525,
   "metadata": {},
   "outputs": [
    {
     "data": {
      "text/plain": [
       "2.410275579296073"
      ]
     },
     "execution_count": 525,
     "metadata": {},
     "output_type": "execute_result"
    }
   ],
   "source": [
    "mean_squared_error(df_ratings_test['rating'], pred_test2)"
   ]
  },
  {
   "cell_type": "code",
   "execution_count": 526,
   "metadata": {},
   "outputs": [
    {
     "data": {
      "text/plain": [
       "1.2076380203543702"
      ]
     },
     "execution_count": 526,
     "metadata": {},
     "output_type": "execute_result"
    }
   ],
   "source": [
    "mean_absolute_error(df_ratings_test['rating'], pred_test2)"
   ]
  },
  {
   "cell_type": "code",
   "execution_count": 527,
   "metadata": {},
   "outputs": [],
   "source": [
    "df_test = df_ratings_test[['user_id','business_id','rating']]\n",
    "df_test['pred_test_1'] = pred_test1\n",
    "df_test['pred_test_2'] = pred_test2"
   ]
  },
  {
   "cell_type": "code",
   "execution_count": 528,
   "metadata": {},
   "outputs": [
    {
     "data": {
      "text/html": [
       "<div>\n",
       "<style scoped>\n",
       "    .dataframe tbody tr th:only-of-type {\n",
       "        vertical-align: middle;\n",
       "    }\n",
       "\n",
       "    .dataframe tbody tr th {\n",
       "        vertical-align: top;\n",
       "    }\n",
       "\n",
       "    .dataframe thead th {\n",
       "        text-align: right;\n",
       "    }\n",
       "</style>\n",
       "<table border=\"1\" class=\"dataframe\">\n",
       "  <thead>\n",
       "    <tr style=\"text-align: right;\">\n",
       "      <th></th>\n",
       "      <th>user_id</th>\n",
       "      <th>business_id</th>\n",
       "      <th>rating</th>\n",
       "      <th>pred_test_1</th>\n",
       "      <th>pred_test_2</th>\n",
       "    </tr>\n",
       "  </thead>\n",
       "  <tbody>\n",
       "    <tr>\n",
       "      <td>0</td>\n",
       "      <td>6X0i-oGUbh5DZdTHzFuKfg</td>\n",
       "      <td>u8C8pRvaHXg3PgDrsUHJHQ</td>\n",
       "      <td>5.0</td>\n",
       "      <td>3.779700</td>\n",
       "      <td>3.618027</td>\n",
       "    </tr>\n",
       "    <tr>\n",
       "      <td>1</td>\n",
       "      <td>6X0i-oGUbh5DZdTHzFuKfg</td>\n",
       "      <td>dHkbBWmXXjaO_-9BgQyEPg</td>\n",
       "      <td>1.0</td>\n",
       "      <td>3.238342</td>\n",
       "      <td>2.714286</td>\n",
       "    </tr>\n",
       "    <tr>\n",
       "      <td>2</td>\n",
       "      <td>iQt3ya8qaVJ347rJi5jSmA</td>\n",
       "      <td>dIZcPB3CtNjMn4O_p8QFxw</td>\n",
       "      <td>4.0</td>\n",
       "      <td>4.087520</td>\n",
       "      <td>4.450527</td>\n",
       "    </tr>\n",
       "    <tr>\n",
       "      <td>3</td>\n",
       "      <td>iQt3ya8qaVJ347rJi5jSmA</td>\n",
       "      <td>i_t8WTwztuHweRqQ89hmuQ</td>\n",
       "      <td>4.0</td>\n",
       "      <td>3.439996</td>\n",
       "      <td>4.433910</td>\n",
       "    </tr>\n",
       "    <tr>\n",
       "      <td>4</td>\n",
       "      <td>iQt3ya8qaVJ347rJi5jSmA</td>\n",
       "      <td>f_CDR6H4QL1K3SeaBe7r3g</td>\n",
       "      <td>3.0</td>\n",
       "      <td>3.540818</td>\n",
       "      <td>4.764313</td>\n",
       "    </tr>\n",
       "    <tr>\n",
       "      <td>...</td>\n",
       "      <td>...</td>\n",
       "      <td>...</td>\n",
       "      <td>...</td>\n",
       "      <td>...</td>\n",
       "      <td>...</td>\n",
       "    </tr>\n",
       "    <tr>\n",
       "      <td>3929</td>\n",
       "      <td>VO42jNnadblgtODxPYVDRA</td>\n",
       "      <td>k6m3Msok7bto6biv5guEzg</td>\n",
       "      <td>2.0</td>\n",
       "      <td>3.104620</td>\n",
       "      <td>3.104620</td>\n",
       "    </tr>\n",
       "    <tr>\n",
       "      <td>3930</td>\n",
       "      <td>nlHtklaFE5gfKCd6K-jeuQ</td>\n",
       "      <td>KGpsB2dsdkxl8SGVUlJbZw</td>\n",
       "      <td>1.0</td>\n",
       "      <td>3.191568</td>\n",
       "      <td>3.191568</td>\n",
       "    </tr>\n",
       "    <tr>\n",
       "      <td>3931</td>\n",
       "      <td>1LtJ5w7YaxaN0equ3Oq6pw</td>\n",
       "      <td>dIUHCuiAlzkxfgCEOtky8w</td>\n",
       "      <td>5.0</td>\n",
       "      <td>4.330800</td>\n",
       "      <td>4.330800</td>\n",
       "    </tr>\n",
       "    <tr>\n",
       "      <td>3932</td>\n",
       "      <td>EeOcpXst4ihchMBvNkAoUA</td>\n",
       "      <td>dIUHCuiAlzkxfgCEOtky8w</td>\n",
       "      <td>5.0</td>\n",
       "      <td>4.330800</td>\n",
       "      <td>4.330800</td>\n",
       "    </tr>\n",
       "    <tr>\n",
       "      <td>3933</td>\n",
       "      <td>36TpSKvNT8nKVMUe4OFncw</td>\n",
       "      <td>RAJUQvRLopFmIklzqaUYeA</td>\n",
       "      <td>3.0</td>\n",
       "      <td>3.617508</td>\n",
       "      <td>3.617508</td>\n",
       "    </tr>\n",
       "  </tbody>\n",
       "</table>\n",
       "<p>3934 rows × 5 columns</p>\n",
       "</div>"
      ],
      "text/plain": [
       "                     user_id             business_id  rating  pred_test_1  \\\n",
       "0     6X0i-oGUbh5DZdTHzFuKfg  u8C8pRvaHXg3PgDrsUHJHQ     5.0     3.779700   \n",
       "1     6X0i-oGUbh5DZdTHzFuKfg  dHkbBWmXXjaO_-9BgQyEPg     1.0     3.238342   \n",
       "2     iQt3ya8qaVJ347rJi5jSmA  dIZcPB3CtNjMn4O_p8QFxw     4.0     4.087520   \n",
       "3     iQt3ya8qaVJ347rJi5jSmA  i_t8WTwztuHweRqQ89hmuQ     4.0     3.439996   \n",
       "4     iQt3ya8qaVJ347rJi5jSmA  f_CDR6H4QL1K3SeaBe7r3g     3.0     3.540818   \n",
       "...                      ...                     ...     ...          ...   \n",
       "3929  VO42jNnadblgtODxPYVDRA  k6m3Msok7bto6biv5guEzg     2.0     3.104620   \n",
       "3930  nlHtklaFE5gfKCd6K-jeuQ  KGpsB2dsdkxl8SGVUlJbZw     1.0     3.191568   \n",
       "3931  1LtJ5w7YaxaN0equ3Oq6pw  dIUHCuiAlzkxfgCEOtky8w     5.0     4.330800   \n",
       "3932  EeOcpXst4ihchMBvNkAoUA  dIUHCuiAlzkxfgCEOtky8w     5.0     4.330800   \n",
       "3933  36TpSKvNT8nKVMUe4OFncw  RAJUQvRLopFmIklzqaUYeA     3.0     3.617508   \n",
       "\n",
       "      pred_test_2  \n",
       "0        3.618027  \n",
       "1        2.714286  \n",
       "2        4.450527  \n",
       "3        4.433910  \n",
       "4        4.764313  \n",
       "...           ...  \n",
       "3929     3.104620  \n",
       "3930     3.191568  \n",
       "3931     4.330800  \n",
       "3932     4.330800  \n",
       "3933     3.617508  \n",
       "\n",
       "[3934 rows x 5 columns]"
      ]
     },
     "execution_count": 528,
     "metadata": {},
     "output_type": "execute_result"
    }
   ],
   "source": [
    "df_test"
   ]
  },
  {
   "cell_type": "code",
   "execution_count": null,
   "metadata": {},
   "outputs": [],
   "source": []
  }
 ],
 "metadata": {
  "kernelspec": {
   "display_name": "Python 3",
   "language": "python",
   "name": "python3"
  },
  "language_info": {
   "codemirror_mode": {
    "name": "ipython",
    "version": 3
   },
   "file_extension": ".py",
   "mimetype": "text/x-python",
   "name": "python",
   "nbconvert_exporter": "python",
   "pygments_lexer": "ipython3",
   "version": "3.7.4"
  }
 },
 "nbformat": 4,
 "nbformat_minor": 2
}
