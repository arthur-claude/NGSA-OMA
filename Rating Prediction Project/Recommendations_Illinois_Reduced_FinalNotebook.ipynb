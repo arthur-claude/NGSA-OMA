{
 "cells": [
  {
   "cell_type": "code",
   "execution_count": 1,
   "metadata": {},
   "outputs": [],
   "source": [
    "import pandas as pd\n",
    "from tqdm import tqdm\n",
    "import json\n",
    "import numpy as np\n",
    "import time\n",
    "from copy import deepcopy\n",
    "import matplotlib.pyplot as plt\n",
    "from surprise import Reader, Dataset\n",
    "from surprise.model_selection import train_test_split\n",
    "from surprise import SVD, SVDpp, accuracy\n",
    "from surprise import KNNBasic\n",
    "from sklearn.metrics import mean_squared_error\n",
    "from sklearn.metrics import mean_absolute_error\n",
    "import math"
   ]
  },
  {
   "cell_type": "code",
   "execution_count": 220,
   "metadata": {},
   "outputs": [],
   "source": [
    "df_users = pd.read_csv('users_restaurants_illinois_reduced.csv')\n",
    "df_business = pd.read_csv('businesses_restaurants_illinois_reduced.csv')\n",
    "df_ratings = pd.read_csv('ratings_restaurants_illinois_reduced.csv')\n",
    "df_users = df_users.drop(columns=['Unnamed: 0'])\n",
    "df_business = df_business.drop(columns=['Unnamed: 0'])\n",
    "df_ratings = df_ratings.drop(columns=['Unnamed: 0'])"
   ]
  },
  {
   "cell_type": "code",
   "execution_count": 221,
   "metadata": {},
   "outputs": [],
   "source": [
    "df_ratings_cop = df_ratings.copy()\n",
    "df_ratings_cop = df_ratings_cop.groupby(['user_id'])['date'].max()\n",
    "df_ratings_cop = df_ratings_cop.to_frame()\n",
    "df_ratings_cop = df_ratings_cop.reset_index()"
   ]
  },
  {
   "cell_type": "code",
   "execution_count": 222,
   "metadata": {},
   "outputs": [],
   "source": [
    "df_ratings['index']=df_ratings.index"
   ]
  },
  {
   "cell_type": "code",
   "execution_count": 223,
   "metadata": {},
   "outputs": [],
   "source": [
    "df_ratings_test = pd.merge(df_ratings, df_ratings_cop, how='right')\n",
    "df_ratings_test = df_ratings_test.drop([2327,2328])\n",
    "df_ratings_test = df_ratings_test.reset_index(drop=True)"
   ]
  },
  {
   "cell_type": "code",
   "execution_count": 224,
   "metadata": {},
   "outputs": [],
   "source": [
    "df_ratings_train = df_ratings.drop(list(df_ratings_test['index']))"
   ]
  },
  {
   "cell_type": "code",
   "execution_count": 225,
   "metadata": {},
   "outputs": [],
   "source": [
    "df_ratings_train = df_ratings_train.drop(columns=['date','index'])\n",
    "df_ratings_test = df_ratings_test.drop(columns=['date','index'])\n",
    "df_ratings_train = df_ratings_train.reset_index(drop=True)\n",
    "df_ratings_test = df_ratings_test.reset_index(drop=True)"
   ]
  },
  {
   "cell_type": "markdown",
   "metadata": {},
   "source": [
    "# Reference measure: Average Rating"
   ]
  },
  {
   "cell_type": "markdown",
   "metadata": {},
   "source": [
    "We evaluate the RMSE and MAE when we predict the average rating of the train set for the entire test set. It's a reference measure."
   ]
  },
  {
   "cell_type": "code",
   "execution_count": 39,
   "metadata": {},
   "outputs": [],
   "source": [
    "average_train = df_ratings_train.rating.mean()\n",
    "pred_average = np.repeat(average_train, df_ratings_test.shape[0])"
   ]
  },
  {
   "cell_type": "code",
   "execution_count": 40,
   "metadata": {},
   "outputs": [
    {
     "data": {
      "text/plain": [
       "1.9393005832255554"
      ]
     },
     "execution_count": 40,
     "metadata": {},
     "output_type": "execute_result"
    }
   ],
   "source": [
    "mean_squared_error(df_ratings_test['rating'], pred_average)"
   ]
  },
  {
   "cell_type": "code",
   "execution_count": 157,
   "metadata": {},
   "outputs": [
    {
     "data": {
      "text/plain": [
       "1.3925877290948514"
      ]
     },
     "execution_count": 157,
     "metadata": {},
     "output_type": "execute_result"
    }
   ],
   "source": [
    "np.sqrt(mean_squared_error(df_ratings_test['rating'], pred_average))"
   ]
  },
  {
   "cell_type": "code",
   "execution_count": 41,
   "metadata": {},
   "outputs": [
    {
     "data": {
      "text/plain": [
       "1.2065156420765029"
      ]
     },
     "execution_count": 41,
     "metadata": {},
     "output_type": "execute_result"
    }
   ],
   "source": [
    "mean_absolute_error(df_ratings_test['rating'], pred_average)"
   ]
  },
  {
   "cell_type": "markdown",
   "metadata": {},
   "source": [
    "# Graphs Construction"
   ]
  },
  {
   "cell_type": "code",
   "execution_count": 42,
   "metadata": {},
   "outputs": [],
   "source": [
    "import networkx as nx"
   ]
  },
  {
   "cell_type": "markdown",
   "metadata": {},
   "source": [
    "## Users Graph"
   ]
  },
  {
   "cell_type": "code",
   "execution_count": 43,
   "metadata": {},
   "outputs": [],
   "source": [
    "df_users_graph = df_users[['user_id','friends']]"
   ]
  },
  {
   "cell_type": "code",
   "execution_count": 44,
   "metadata": {},
   "outputs": [],
   "source": [
    "users = []\n",
    "for i in range(df_users_graph.shape[0]):\n",
    "    friends = df_users_graph['friends'][i].split(', ')\n",
    "    users.append([df_users_graph['user_id'][i], friends])"
   ]
  },
  {
   "cell_type": "code",
   "execution_count": 45,
   "metadata": {},
   "outputs": [],
   "source": [
    "G_users = nx.Graph()\n",
    "\n",
    "for i in range(len(users)):\n",
    "    G_users.add_node(users[i][0])\n",
    "\n",
    "nl = list(G_users.nodes())\n",
    "for i in range(len(users)):\n",
    "    user = users[i][0]\n",
    "    friends = users[i][1]\n",
    "    for friend in friends:\n",
    "        if friend in nl:\n",
    "            G_users.add_edge(user, friend)\n"
   ]
  },
  {
   "cell_type": "markdown",
   "metadata": {},
   "source": [
    "## User-Restaurant Bipartite Graph"
   ]
  },
  {
   "cell_type": "code",
   "execution_count": 46,
   "metadata": {},
   "outputs": [],
   "source": [
    "users_list = df_users['user_id'].tolist()\n",
    "restaurants_list = df_business['business_id'].tolist()\n",
    "\n",
    "links_list = []\n",
    "for i in range(df_ratings_train.shape[0]):\n",
    "    links_list.append((df_ratings_train['user_id'][i], df_ratings_train['business_id'][i], df_ratings_train['rating'][i]))\n",
    "    \n",
    "    "
   ]
  },
  {
   "cell_type": "code",
   "execution_count": 47,
   "metadata": {},
   "outputs": [],
   "source": [
    "G_us_re = nx.Graph()\n",
    "\n",
    "G_us_re.add_nodes_from(users_list, bipartite=0)\n",
    "G_us_re.add_nodes_from(restaurants_list, bipartite=1)\n",
    "\n",
    "G_us_re.add_weighted_edges_from(links_list)"
   ]
  },
  {
   "cell_type": "code",
   "execution_count": 49,
   "metadata": {},
   "outputs": [],
   "source": [
    "if nx.is_connected(G_us_re):\n",
    "    restaurants_nodes, users_nodes = nx.bipartite.sets(G_us_re)\n",
    "else:\n",
    "    users_nodes = {n for n, d in G_us_re.nodes(data=True) if d['bipartite']==0}\n",
    "    restaurants_nodes = set(G_us_re) - users_nodes"
   ]
  },
  {
   "cell_type": "markdown",
   "metadata": {},
   "source": [
    "# Recommendations"
   ]
  },
  {
   "cell_type": "markdown",
   "metadata": {},
   "source": [
    "## Rating prediction based on User-Restaurant Bipartite Graph"
   ]
  },
  {
   "cell_type": "markdown",
   "metadata": {},
   "source": [
    "The library Surprise allow to build recommendation systems thanks to collaborative filtering, but it does not support large datasets and leads to kernel crashes. We implemented the methods by our own."
   ]
  },
  {
   "cell_type": "code",
   "execution_count": 50,
   "metadata": {},
   "outputs": [],
   "source": [
    "def similarity(u,v,other_nodes, G):\n",
    "    p, a, b = 0, 0, 0\n",
    "    for i in other_nodes:\n",
    "        p += G.get_edge_data(u,i,default={'weight': 0.0})['weight']*G.get_edge_data(v,i,default={'weight': 0.0})['weight']\n",
    "        a += G.get_edge_data(u,i,default={'weight': 0.0})['weight']**2\n",
    "        b += G.get_edge_data(v,i,default={'weight': 0.0})['weight']**2\n",
    "    sim = p/(np.sqrt(a)*np.sqrt(b))\n",
    "    return sim    "
   ]
  },
  {
   "cell_type": "markdown",
   "metadata": {},
   "source": [
    "### User Collaborative Filtering"
   ]
  },
  {
   "cell_type": "markdown",
   "metadata": {},
   "source": [
    "We compute cosine similarities among users."
   ]
  },
  {
   "cell_type": "code",
   "execution_count": 51,
   "metadata": {
    "scrolled": true
   },
   "outputs": [
    {
     "name": "stderr",
     "output_type": "stream",
     "text": [
      "/opt/anaconda3/lib/python3.7/site-packages/ipykernel_launcher.py:7: RuntimeWarning: invalid value encountered in double_scalars\n",
      "  import sys\n"
     ]
    }
   ],
   "source": [
    "ar_similarities_user = np.zeros((len(users_list), len(users_list)))\n",
    "for u in range(len(users_list)):\n",
    "    for v in range(u, len(users_list)):\n",
    "        ar_similarities_user[u][v] = similarity(users_list[u],users_list[v],restaurants_nodes,G_us_re)"
   ]
  },
  {
   "cell_type": "code",
   "execution_count": 52,
   "metadata": {},
   "outputs": [],
   "source": [
    "ar_similarities_user_f = ar_similarities_user + ar_similarities_user.transpose() - np.eye(len(users_list))\n",
    "df_similarities_user = pd.DataFrame(ar_similarities_user_f, columns = users_list, index = users_list)"
   ]
  },
  {
   "cell_type": "markdown",
   "metadata": {},
   "source": [
    "Remark: Some NaN because some users have never published a Rating before the train/test separation date"
   ]
  },
  {
   "cell_type": "code",
   "execution_count": 53,
   "metadata": {},
   "outputs": [],
   "source": [
    "df_similarities_user_na = df_similarities_user.fillna(0.0)"
   ]
  },
  {
   "cell_type": "code",
   "execution_count": 64,
   "metadata": {},
   "outputs": [],
   "source": [
    "df_similarities_user.to_csv('similarities_bipartite_users_withnan_bis.csv')"
   ]
  },
  {
   "cell_type": "code",
   "execution_count": 65,
   "metadata": {},
   "outputs": [],
   "source": [
    "df_similarities_user_na.to_csv('similarities_bipartite_users_bis.csv')"
   ]
  },
  {
   "cell_type": "code",
   "execution_count": 56,
   "metadata": {},
   "outputs": [],
   "source": [
    "def prediction_userCF(df_similarities,u,i):\n",
    "    '''\n",
    "    Returns the predicted rating by user u for restaurant i\n",
    "    \n",
    "    Arguments:\n",
    "        similarities: similarities between users\n",
    "        u: a user\n",
    "        i: a restaurant\n",
    "    '''\n",
    "    n,d = 0,0\n",
    "    pred = 0\n",
    "    for v in users_nodes:\n",
    "        rating_v_i = G_us_re.get_edge_data(v,i,default={'weight': 0.0})['weight']\n",
    "        if rating_v_i != 0:\n",
    "            n += df_similarities[u][v]*rating_v_i\n",
    "            d += df_similarities[u][v]\n",
    "    if d !=0:\n",
    "        pred = n/d\n",
    "    else:\n",
    "        pred = average_train\n",
    "    return pred\n",
    "    "
   ]
  },
  {
   "cell_type": "code",
   "execution_count": 57,
   "metadata": {},
   "outputs": [],
   "source": [
    "def make_pred_userCF(df_ratings_test,df_similarities):\n",
    "    pred = []\n",
    "    for j in range(df_ratings_test.shape[0]):\n",
    "        userid = df_ratings_test['user_id'][j]\n",
    "        businessid = df_ratings_test['business_id'][j]\n",
    "        pred.append(prediction_userCF(df_similarities,userid,businessid))\n",
    "    return pred"
   ]
  },
  {
   "cell_type": "code",
   "execution_count": 58,
   "metadata": {},
   "outputs": [],
   "source": [
    "pred_userCF = make_pred_userCF(df_ratings_test,df_similarities_user_na)"
   ]
  },
  {
   "cell_type": "code",
   "execution_count": 59,
   "metadata": {},
   "outputs": [],
   "source": [
    "#np.sum(df_similarities_user_na.loc[df_similarities_user_na.index == '4mjnkd8oJVCfBKN3i4rB-g'].values)"
   ]
  },
  {
   "cell_type": "code",
   "execution_count": 60,
   "metadata": {},
   "outputs": [
    {
     "data": {
      "text/plain": [
       "1.873694307714286"
      ]
     },
     "execution_count": 60,
     "metadata": {},
     "output_type": "execute_result"
    }
   ],
   "source": [
    "mean_squared_error(df_ratings_test['rating'], pred_userCF)"
   ]
  },
  {
   "cell_type": "code",
   "execution_count": 61,
   "metadata": {},
   "outputs": [
    {
     "data": {
      "text/plain": [
       "1.0962555588837808"
      ]
     },
     "execution_count": 61,
     "metadata": {},
     "output_type": "execute_result"
    }
   ],
   "source": [
    "mean_absolute_error(df_ratings_test['rating'], pred_userCF)"
   ]
  },
  {
   "cell_type": "code",
   "execution_count": 62,
   "metadata": {},
   "outputs": [
    {
     "data": {
      "text/plain": [
       "2723"
      ]
     },
     "execution_count": 62,
     "metadata": {},
     "output_type": "execute_result"
    }
   ],
   "source": [
    "nb_changed_values = df_ratings_test.shape[0]-pred_userCF.count(average_train)\n",
    "nb_changed_values"
   ]
  },
  {
   "cell_type": "markdown",
   "metadata": {},
   "source": [
    "### Item Collaborative Filtering"
   ]
  },
  {
   "cell_type": "code",
   "execution_count": 66,
   "metadata": {},
   "outputs": [
    {
     "name": "stderr",
     "output_type": "stream",
     "text": [
      "/opt/anaconda3/lib/python3.7/site-packages/ipykernel_launcher.py:7: RuntimeWarning: invalid value encountered in double_scalars\n",
      "  import sys\n"
     ]
    }
   ],
   "source": [
    "ar_similarities_rest = np.zeros((len(restaurants_list), len(restaurants_list)))\n",
    "for u in range(len(restaurants_list)):\n",
    "    for v in range(u, len(restaurants_list)):\n",
    "        ar_similarities_rest[u][v] = similarity(restaurants_list[u],restaurants_list[v],users_nodes,G_us_re)"
   ]
  },
  {
   "cell_type": "code",
   "execution_count": 67,
   "metadata": {},
   "outputs": [],
   "source": [
    "ar_similarities_rest_f = ar_similarities_rest + ar_similarities_rest.transpose() - np.eye(len(restaurants_list))\n",
    "df_similarities_rest = pd.DataFrame(ar_similarities_rest_f, columns = restaurants_list, index = restaurants_list)"
   ]
  },
  {
   "cell_type": "code",
   "execution_count": 68,
   "metadata": {},
   "outputs": [],
   "source": [
    "df_similarities_rest_na = df_similarities_rest.fillna(0.0)"
   ]
  },
  {
   "cell_type": "code",
   "execution_count": 69,
   "metadata": {},
   "outputs": [],
   "source": [
    "df_similarities_rest.to_csv('similarities_bipartite_rest_withnan_bis.csv')"
   ]
  },
  {
   "cell_type": "code",
   "execution_count": 70,
   "metadata": {},
   "outputs": [],
   "source": [
    "df_similarities_rest_na.to_csv('similarities_bipartite_rest_bis.csv')"
   ]
  },
  {
   "cell_type": "code",
   "execution_count": 71,
   "metadata": {},
   "outputs": [],
   "source": [
    "def prediction_itemCF(df_similarities,u,i):\n",
    "    '''\n",
    "    Returns the predicted rating by user u for restaurant i\n",
    "    \n",
    "    Arguments:\n",
    "        similarities: similarities between users\n",
    "        u: a user\n",
    "        i: a restaurant\n",
    "    '''\n",
    "    n,d = 0,0\n",
    "    pred = 0\n",
    "    for j in restaurants_nodes:\n",
    "        rating_u_j = G_us_re.get_edge_data(u,j,default={'weight': 0.0})['weight']\n",
    "        if rating_u_j != 0:\n",
    "            n += df_similarities[i][j]*rating_u_j\n",
    "            d += df_similarities[i][j]\n",
    "    if d != 0:\n",
    "        pred = n/d\n",
    "    else:\n",
    "        pred = average_train\n",
    "    return pred\n"
   ]
  },
  {
   "cell_type": "code",
   "execution_count": 72,
   "metadata": {},
   "outputs": [],
   "source": [
    "def make_pred_itemCF(df_ratings_test,df_similarities):\n",
    "    pred = []\n",
    "    for j in range(df_ratings_test.shape[0]):\n",
    "        userid = df_ratings_test['user_id'][j]\n",
    "        businessid = df_ratings_test['business_id'][j]\n",
    "        pred.append(prediction_itemCF(df_similarities,userid,businessid))\n",
    "    return pred"
   ]
  },
  {
   "cell_type": "code",
   "execution_count": 73,
   "metadata": {},
   "outputs": [],
   "source": [
    "pred_itemCF = make_pred_itemCF(df_ratings_test,df_similarities_rest_na)"
   ]
  },
  {
   "cell_type": "code",
   "execution_count": 74,
   "metadata": {},
   "outputs": [
    {
     "data": {
      "text/plain": [
       "2.220415561943532"
      ]
     },
     "execution_count": 74,
     "metadata": {},
     "output_type": "execute_result"
    }
   ],
   "source": [
    "mean_squared_error(df_ratings_test['rating'], pred_itemCF)"
   ]
  },
  {
   "cell_type": "code",
   "execution_count": 75,
   "metadata": {},
   "outputs": [
    {
     "data": {
      "text/plain": [
       "1.1288097657832012"
      ]
     },
     "execution_count": 75,
     "metadata": {},
     "output_type": "execute_result"
    }
   ],
   "source": [
    "mean_absolute_error(df_ratings_test['rating'], pred_itemCF)"
   ]
  },
  {
   "cell_type": "code",
   "execution_count": 76,
   "metadata": {},
   "outputs": [
    {
     "data": {
      "text/plain": [
       "2723"
      ]
     },
     "execution_count": 76,
     "metadata": {},
     "output_type": "execute_result"
    }
   ],
   "source": [
    "nb_changed_values = df_ratings_test.shape[0]-pred_itemCF.count(average_train)\n",
    "nb_changed_values"
   ]
  },
  {
   "cell_type": "markdown",
   "metadata": {},
   "source": [
    "### Latent Collaborative Filtering: SVD"
   ]
  },
  {
   "cell_type": "code",
   "execution_count": 77,
   "metadata": {},
   "outputs": [],
   "source": [
    "reader = Reader(rating_scale = (0.0, 5.0))\n",
    "\n",
    "train_data = Dataset.load_from_df(df_ratings_train[['user_id', 'business_id', 'rating']], reader)\n",
    "test_data = Dataset.load_from_df(df_ratings_test[['user_id', 'business_id', 'rating']], reader)\n",
    "\n",
    "sr_train = train_data.build_full_trainset()\n",
    "sr_test_before = test_data.build_full_trainset()\n",
    "sr_test = sr_test_before.build_testset()\n"
   ]
  },
  {
   "cell_type": "code",
   "execution_count": 78,
   "metadata": {},
   "outputs": [
    {
     "data": {
      "text/plain": [
       "<surprise.prediction_algorithms.matrix_factorization.SVD at 0x13931c9d0>"
      ]
     },
     "execution_count": 78,
     "metadata": {},
     "output_type": "execute_result"
    }
   ],
   "source": [
    "algo_latent = SVD()\n",
    "algo_latent.fit(sr_train)"
   ]
  },
  {
   "cell_type": "code",
   "execution_count": 79,
   "metadata": {},
   "outputs": [],
   "source": [
    "pred_latent = algo_latent.test(sr_test)"
   ]
  },
  {
   "cell_type": "code",
   "execution_count": 80,
   "metadata": {},
   "outputs": [
    {
     "name": "stdout",
     "output_type": "stream",
     "text": [
      "MSE: 1.5960\n"
     ]
    },
    {
     "data": {
      "text/plain": [
       "1.5959517846195412"
      ]
     },
     "execution_count": 80,
     "metadata": {},
     "output_type": "execute_result"
    }
   ],
   "source": [
    "accuracy.mse(pred_latent)"
   ]
  },
  {
   "cell_type": "code",
   "execution_count": 81,
   "metadata": {},
   "outputs": [
    {
     "name": "stdout",
     "output_type": "stream",
     "text": [
      "MAE:  1.0409\n"
     ]
    },
    {
     "data": {
      "text/plain": [
       "1.040877588931486"
      ]
     },
     "execution_count": 81,
     "metadata": {},
     "output_type": "execute_result"
    }
   ],
   "source": [
    "accuracy.mae(pred_latent)"
   ]
  },
  {
   "cell_type": "code",
   "execution_count": 82,
   "metadata": {},
   "outputs": [],
   "source": [
    "pred_latent_list = [pred_latent[i][3] for i in range(len(pred_latent))]"
   ]
  },
  {
   "cell_type": "code",
   "execution_count": 83,
   "metadata": {},
   "outputs": [
    {
     "data": {
      "text/plain": [
       "3000"
      ]
     },
     "execution_count": 83,
     "metadata": {},
     "output_type": "execute_result"
    }
   ],
   "source": [
    "nb_changed_values = df_ratings_test.shape[0]-pred_latent_list.count(average_train)\n",
    "nb_changed_values"
   ]
  },
  {
   "cell_type": "markdown",
   "metadata": {},
   "source": [
    "### SVD++"
   ]
  },
  {
   "cell_type": "code",
   "execution_count": 84,
   "metadata": {},
   "outputs": [
    {
     "data": {
      "text/plain": [
       "<surprise.prediction_algorithms.matrix_factorization.SVDpp at 0x139e5fc10>"
      ]
     },
     "execution_count": 84,
     "metadata": {},
     "output_type": "execute_result"
    }
   ],
   "source": [
    "algo_latent2 = SVDpp()\n",
    "algo_latent2.fit(sr_train)"
   ]
  },
  {
   "cell_type": "code",
   "execution_count": 85,
   "metadata": {},
   "outputs": [],
   "source": [
    "pred_latent2 = algo_latent2.test(sr_test)"
   ]
  },
  {
   "cell_type": "code",
   "execution_count": 86,
   "metadata": {},
   "outputs": [
    {
     "name": "stdout",
     "output_type": "stream",
     "text": [
      "MSE: 1.5748\n"
     ]
    },
    {
     "data": {
      "text/plain": [
       "1.5747960043659566"
      ]
     },
     "execution_count": 86,
     "metadata": {},
     "output_type": "execute_result"
    }
   ],
   "source": [
    "accuracy.mse(pred_latent2)"
   ]
  },
  {
   "cell_type": "code",
   "execution_count": 87,
   "metadata": {},
   "outputs": [
    {
     "name": "stdout",
     "output_type": "stream",
     "text": [
      "MAE:  1.0279\n"
     ]
    },
    {
     "data": {
      "text/plain": [
       "1.0278570789684343"
      ]
     },
     "execution_count": 87,
     "metadata": {},
     "output_type": "execute_result"
    }
   ],
   "source": [
    "accuracy.mae(pred_latent2)"
   ]
  },
  {
   "cell_type": "code",
   "execution_count": 153,
   "metadata": {},
   "outputs": [],
   "source": [
    "pred_latent2_list = [pred_latent2[i][3] for i in range(len(pred_latent2))]"
   ]
  },
  {
   "cell_type": "markdown",
   "metadata": {},
   "source": [
    "### Deep Matrix Factorization"
   ]
  },
  {
   "cell_type": "code",
   "execution_count": 195,
   "metadata": {},
   "outputs": [],
   "source": [
    "from tqdm import tqdm\n",
    "import json\n",
    "import time\n",
    "from copy import deepcopy\n",
    "from sklearn.metrics import mean_squared_error\n",
    "from sklearn.metrics import mean_absolute_error\n",
    "import math\n",
    "import torch\n",
    "import torch.nn as nn\n",
    "import torch.nn.functional as F\n",
    "from torch.utils.data import DataLoader, Dataset"
   ]
  },
  {
   "cell_type": "code",
   "execution_count": 196,
   "metadata": {},
   "outputs": [],
   "source": [
    "class Model(nn.Module):\n",
    "    def __init__(self,  N_business, N_user, N, user_dim, business_dim, n_layers = 2, dropout = 0.5):\n",
    "        super(Model, self).__init__()\n",
    "        self.N = N\n",
    "        self.n_layers = n_layers\n",
    "        self.dropout = dropout\n",
    "\n",
    "        self.left_1 = nn.Linear(user_dim, N_user)\n",
    "        self.left_2 = nn.Linear(N_user, N)\n",
    "        self.right_1 = nn.Linear(business_dim, N_business)\n",
    "        self.right_2 = nn.Linear(N_business, N)\n",
    "        self.cosine = nn.CosineSimilarity(dim=1, eps=1e-6)\n",
    "\n",
    "\n",
    "    def forward(self, user, business):\n",
    "\n",
    "        user_tensor = F.relu(self.right_1(user))\n",
    "        user_tensor = F.relu(self.right_2(user_tensor))\n",
    "        business_tensor = F.relu(self.left_1(business))\n",
    "        business_tensor = F.relu(self.left_2(business_tensor))\n",
    "        cosine = self.cosine(user_tensor, business_tensor)\n",
    "\n",
    "        return cosine\n",
    "\n",
    "def train(data_loader, validation_loader, model, criterion, optimizer, epochs):\n",
    "\n",
    "    print(\"There are {} batches\".format(len(data_loader)))\n",
    "    for epoch in range(epochs):  # loop over the dataset multiple times\n",
    "        running_loss = 0.0\n",
    "        print(\"epoch {}\".format(epoch + 1))\n",
    "        for i, batch in enumerate(data_loader):\n",
    "            # get the inputs; data is a list of [inputs, labels]\n",
    "            user, label, business = tuple(batch.values())\n",
    "\n",
    "            # zero the parameter gradients\n",
    "            optimizer.zero_grad()\n",
    "\n",
    "            # forward + backward + optimize\n",
    "            outputs = model(user.float(), business.float())\n",
    "\n",
    "\n",
    "            loss = criterion(outputs*5, label.float())\n",
    "            loss.backward()\n",
    "            optimizer.step()\n",
    "\n",
    "            # print statistics\n",
    "            running_loss += loss.item()\n",
    "\n",
    "        print(\"     mean loss : {}\".format(running_loss/len(dataloader)))\n",
    "\n",
    "        AE, SE = evaluate_validation(model, validation_loader)\n",
    "\n",
    "        print(\"     On Validation, MSE is {}\".format(SE))\n",
    "        print(\"     On Validation, MAE is {}\".format(AE))\n",
    "    print('Finished Training')\n",
    "\n",
    "def my_loss(output, labels):\n",
    "    output_clipped = torch.max(output, torch.tensor(1e-6).float())\n",
    "    a = -(torch.log(output_clipped) * labels / 5 + torch.log(1 - output_clipped) * (1 - labels/5))\n",
    "    return torch.sum(a)\n",
    "\n",
    "def evaluate_validation(model, validation_loader):\n",
    "    AE = 0\n",
    "    SE = 0\n",
    "    with torch.no_grad():\n",
    "        MSE = nn.MSELoss()\n",
    "        MAE = nn.L1Loss()\n",
    "        count = 0\n",
    "        for sample in validation_loader:\n",
    "            count += 1\n",
    "            user, label, business = tuple(sample.values())\n",
    "            output = model(user, business)\n",
    "            AE += MAE(torch.round(5 * output), label)\n",
    "            SE += MSE(torch.round(5 * output), label)\n",
    "\n",
    "    return AE/count, SE/count\n",
    "\n",
    "\n",
    "class Set(Dataset):\n",
    "    \"\"\"Training Set.\"\"\"\n",
    "\n",
    "    def __init__(self, y, set, transform=None):\n",
    "        \"\"\"\n",
    "        Args:\n",
    "\n",
    "        \"\"\"\n",
    "        self.y = y\n",
    "        self.set = set\n",
    "        self.transform = transform\n",
    "    def __len__(self):\n",
    "        return len(self.set)\n",
    "\n",
    "    def __getitem__(self, idx):\n",
    "        if torch.is_tensor(idx):\n",
    "            idx = idx.tolist()\n",
    "\n",
    "        i, j, label = self.set[idx]\n",
    "        user = torch.tensor(y[i,:]).float()\n",
    "        business = torch.tensor(y[:, j]).float()\n",
    "        label = torch.tensor(label).float()\n",
    "\n",
    "        sample = {\"user\": user, \"label\": label, \"business\": business}\n",
    "\n",
    "\n",
    "        if self.transform:\n",
    "            sample = self.transform(sample)\n",
    "\n",
    "        return sample"
   ]
  },
  {
   "cell_type": "code",
   "execution_count": 197,
   "metadata": {},
   "outputs": [
    {
     "name": "stdout",
     "output_type": "stream",
     "text": [
      "There are 77 batches\n",
      "epoch 1\n",
      "     mean loss : 1.494959998440433\n",
      "     On Validation, MSE is 1.5720000267028809\n",
      "     On Validation, MAE is 0.9906666874885559\n",
      "epoch 2\n",
      "     mean loss : 1.1326492297184931\n",
      "     On Validation, MSE is 1.4593333005905151\n",
      "     On Validation, MAE is 0.9353333115577698\n",
      "epoch 3\n",
      "     mean loss : 0.876978981804538\n",
      "     On Validation, MSE is 1.3303333520889282\n",
      "     On Validation, MAE is 0.8816666603088379\n",
      "epoch 4\n",
      "     mean loss : 0.6589512646972359\n",
      "     On Validation, MSE is 1.3233333826065063\n",
      "     On Validation, MAE is 0.8799999952316284\n",
      "epoch 5\n",
      "     mean loss : 0.5365470953575977\n",
      "     On Validation, MSE is 1.3580000400543213\n",
      "     On Validation, MAE is 0.8999999761581421\n",
      "epoch 6\n",
      "     mean loss : 0.47121583873575384\n",
      "     On Validation, MSE is 1.3519999980926514\n",
      "     On Validation, MAE is 0.8986666798591614\n",
      "epoch 7\n",
      "     mean loss : 0.4382628275976553\n",
      "     On Validation, MSE is 1.3803333044052124\n",
      "     On Validation, MAE is 0.9076666831970215\n",
      "epoch 8\n",
      "     mean loss : 0.4168394331808214\n",
      "     On Validation, MSE is 1.402333378791809\n",
      "     On Validation, MAE is 0.9150000214576721\n",
      "epoch 9\n",
      "     mean loss : 0.3959027172683121\n",
      "     On Validation, MSE is 1.3880000114440918\n",
      "     On Validation, MAE is 0.9139999747276306\n",
      "epoch 10\n",
      "     mean loss : 0.3812019600496664\n",
      "     On Validation, MSE is 1.4320000410079956\n",
      "     On Validation, MAE is 0.9340000152587891\n",
      "epoch 11\n",
      "     mean loss : 0.37000457458681874\n",
      "     On Validation, MSE is 1.431333303451538\n",
      "     On Validation, MAE is 0.9246666431427002\n",
      "epoch 12\n",
      "     mean loss : 0.36078053983775055\n",
      "     On Validation, MSE is 1.4496666193008423\n",
      "     On Validation, MAE is 0.9356666803359985\n",
      "epoch 13\n",
      "     mean loss : 0.35493691439752456\n",
      "     On Validation, MSE is 1.4556666612625122\n",
      "     On Validation, MAE is 0.9383333325386047\n",
      "epoch 14\n",
      "     mean loss : 0.34670617441078283\n",
      "     On Validation, MSE is 1.4889999628067017\n",
      "     On Validation, MAE is 0.956333339214325\n",
      "epoch 15\n",
      "     mean loss : 0.34106590802019293\n",
      "     On Validation, MSE is 1.4596666097640991\n",
      "     On Validation, MAE is 0.9396666884422302\n",
      "epoch 16\n",
      "     mean loss : 0.3397511588288592\n",
      "     On Validation, MSE is 1.496999979019165\n",
      "     On Validation, MAE is 0.9536666870117188\n",
      "epoch 17\n",
      "     mean loss : 0.33373675911457507\n",
      "     On Validation, MSE is 1.4673333168029785\n",
      "     On Validation, MAE is 0.9440000057220459\n",
      "epoch 18\n",
      "     mean loss : 0.3295047225116135\n",
      "     On Validation, MSE is 1.5133333206176758\n",
      "     On Validation, MAE is 0.9639999866485596\n",
      "epoch 19\n",
      "     mean loss : 0.3249388174577193\n",
      "     On Validation, MSE is 1.5269999504089355\n",
      "     On Validation, MAE is 0.9710000157356262\n",
      "epoch 20\n",
      "     mean loss : 0.32266144473831376\n",
      "     On Validation, MSE is 1.5219999551773071\n",
      "     On Validation, MAE is 0.9660000205039978\n",
      "Finished Training\n"
     ]
    }
   ],
   "source": [
    "np.random.seed(1)\n",
    "torch.manual_seed(1)\n",
    "\n",
    "id2usr = dict(df_users.user_id)\n",
    "id2bus = dict(df_business.business_id)\n",
    "bus2id = {v: k for k, v in id2bus.items()}\n",
    "usr2id = {v: k for k, v in id2usr.items()}\n",
    "\n",
    "y = np.zeros((len(id2usr), len(id2bus)))\n",
    "trainset = []\n",
    "for index, row in df_ratings_train.iterrows():\n",
    "    i = usr2id[row['user_id']]\n",
    "    j = bus2id[row['business_id']]\n",
    "    y[i,j] = row['rating']\n",
    "    trainset.append((i, j, y[i,j]))\n",
    "\n",
    "\n",
    "Dataset_train = Set(y, trainset)\n",
    "\n",
    "dataloader = DataLoader(Dataset_train, batch_size=256, num_workers=4, shuffle = True)\n",
    "\n",
    "user_dim, business_dim = y.shape\n",
    "N = 64\n",
    "N_business = 1024\n",
    "N_user = 512\n",
    "n_layers = 2\n",
    "model = Model(N_business, N_user, N, user_dim, business_dim, n_layers = 2, dropout = 0.5)\n",
    "\n",
    "optimizer = torch.optim.Adam(lr=0.001, params=model.parameters())\n",
    "\n",
    "# criterion = nn.BCELoss()\n",
    "\n",
    "criterion = nn.MSELoss()\n",
    "\n",
    "test_set = []\n",
    "\n",
    "for index, row in df_ratings_test.iterrows():\n",
    "    i = usr2id[row['user_id']]\n",
    "    j = bus2id[row['business_id']]\n",
    "    y[i,j] = row['rating']\n",
    "    test_set.append((i, j, y[i,j]))\n",
    "\n",
    "del df_ratings_test\n",
    "\n",
    "validation_dataset = Set(y, test_set)\n",
    "validation_dataloader = DataLoader(validation_dataset, batch_size=1)\n",
    "\n",
    "train(dataloader, validation_dataloader, model, criterion = criterion, optimizer = optimizer, epochs=20)"
   ]
  },
  {
   "cell_type": "markdown",
   "metadata": {},
   "source": [
    "### Graph Projection Method: Network Based Inference"
   ]
  },
  {
   "cell_type": "code",
   "execution_count": 204,
   "metadata": {},
   "outputs": [],
   "source": [
    "from sklearn.base import BaseEstimator, ClassifierMixin\n",
    "from networkx.algorithms import bipartite as bip"
   ]
  },
  {
   "cell_type": "code",
   "execution_count": 199,
   "metadata": {},
   "outputs": [],
   "source": [
    "# We did not code this class\n",
    "# You can find it on Github\n",
    "# https://github.com/ijcruic/NetworkBasedInference\n",
    "\n",
    "class NBI(BaseEstimator, ClassifierMixin):\n",
    "    \n",
    "    def __init__(self):\n",
    "        pass\n",
    "\n",
    "    def fit(self, A):\n",
    "        '''\n",
    "        A is a bipartite network of two not neccesarily equal dimensions and a numpy \n",
    "        array of binary data\n",
    "        '''\n",
    "        A = A.astype(dtype=float)\n",
    "        A = np.asanyarray(A)\n",
    "        k_x = np.sum(A, axis=0)\n",
    "        k_y = np.sum(A, axis=1)\n",
    "        W = np.zeros((A.shape[1], A.shape[1]))\n",
    "        for i in range(W.shape[0]):\n",
    "            for j in range(W.shape[1]):\n",
    "                W[i,j] = np.divide(1, k_x[j], out=np.zeros_like(k_x[j]), where=k_x[j]!=0)*np.sum(np.divide(np.multiply(A[:,i],A[:,j]), k_y))\n",
    "        self.W_ = W\n",
    "        \n",
    "        return self\n",
    "    \n",
    "    def predict(self, a):\n",
    "        \n",
    "        a = np.asanyarray(a)\n",
    "        f_prime = np.zeros(a.shape[0])\n",
    "        \n",
    "        for j in range(f_prime.shape[0]):\n",
    "            f_prime[j] = np.sum(np.multiply(self.W_[j,:], a))\n",
    "        \n",
    "        self.y_ = f_prime\n",
    "        return self.y_"
   ]
  },
  {
   "cell_type": "markdown",
   "metadata": {},
   "source": [
    "#### Exemple on toy graph"
   ]
  },
  {
   "cell_type": "code",
   "execution_count": 200,
   "metadata": {},
   "outputs": [],
   "source": [
    "toy = nx.Graph()"
   ]
  },
  {
   "cell_type": "code",
   "execution_count": 201,
   "metadata": {},
   "outputs": [],
   "source": [
    "toy.add_nodes_from(['u1', 'u2', 'u3'], bipartite=0)\n",
    "toy.add_nodes_from(['o1', 'o2', 'o3', 'o4'], bipartite=1)"
   ]
  },
  {
   "cell_type": "code",
   "execution_count": 202,
   "metadata": {},
   "outputs": [],
   "source": [
    "toy.add_edges_from([('u1', 'o1'), ('u1', 'o2'), ('u1', 'o4')])\n",
    "toy.add_edges_from([('u2', 'o2'), ('u2', 'o3')])\n",
    "toy.add_edges_from([('u3', 'o2'), ('u3', 'o3'), ('u3', 'o4')])"
   ]
  },
  {
   "cell_type": "code",
   "execution_count": 205,
   "metadata": {},
   "outputs": [],
   "source": [
    "top_nodes, bottom_nodes = bip.sets(toy)"
   ]
  },
  {
   "cell_type": "code",
   "execution_count": 206,
   "metadata": {},
   "outputs": [],
   "source": [
    "layout = {'o1': np.array([-3, -1]),\n",
    "          'o2': np.array([-1, -1]),\n",
    "          'o3': np.array([1, -1]),\n",
    "          'o4': np.array([3, -1]),\n",
    "          'u1': np.array([-2, .5]),\n",
    "          'u2': np.array([0, .5]),\n",
    "          'u3': np.array([2, .5])}"
   ]
  },
  {
   "cell_type": "code",
   "execution_count": 207,
   "metadata": {},
   "outputs": [
    {
     "name": "stderr",
     "output_type": "stream",
     "text": [
      "/opt/anaconda3/lib/python3.7/site-packages/networkx/drawing/nx_pylab.py:579: MatplotlibDeprecationWarning: \n",
      "The iterable function was deprecated in Matplotlib 3.1 and will be removed in 3.3. Use np.iterable instead.\n",
      "  if not cb.iterable(width):\n"
     ]
    },
    {
     "data": {
      "image/png": "[encoded data removed]",
      "text/plain": [
       "<Figure size 432x288 with 1 Axes>"
      ]
     },
     "metadata": {},
     "output_type": "display_data"
    }
   ],
   "source": [
    "nx.drawing.nx_pylab.draw_networkx(toy, pos=layout)"
   ]
  },
  {
   "cell_type": "code",
   "execution_count": 208,
   "metadata": {},
   "outputs": [
    {
     "data": {
      "text/plain": [
       "array([[0, 0, 0, 1, 1, 0, 1],\n",
       "       [0, 0, 0, 0, 1, 1, 0],\n",
       "       [0, 0, 0, 0, 1, 1, 1],\n",
       "       [1, 0, 0, 0, 0, 0, 0],\n",
       "       [1, 1, 1, 0, 0, 0, 0],\n",
       "       [0, 1, 1, 0, 0, 0, 0],\n",
       "       [1, 0, 1, 0, 0, 0, 0]], dtype=int64)"
      ]
     },
     "execution_count": 208,
     "metadata": {},
     "output_type": "execute_result"
    }
   ],
   "source": [
    "A = nx.adjacency_matrix(toy, nodelist=['u1','u2','u3','o1','o2','o3','o4']).toarray()\n",
    "A"
   ]
  },
  {
   "cell_type": "code",
   "execution_count": 209,
   "metadata": {},
   "outputs": [],
   "source": [
    "est = NBI()"
   ]
  },
  {
   "cell_type": "code",
   "execution_count": 210,
   "metadata": {},
   "outputs": [
    {
     "data": {
      "text/plain": [
       "array([[0.61111111, 0.16666667, 0.27777778, 0.        , 0.        ,\n",
       "        0.        , 0.        ],\n",
       "       [0.11111111, 0.41666667, 0.27777778, 0.        , 0.        ,\n",
       "        0.        , 0.        ],\n",
       "       [0.27777778, 0.41666667, 0.44444444, 0.        , 0.        ,\n",
       "        0.        , 0.        ],\n",
       "       [0.        , 0.        , 0.        , 0.33333333, 0.11111111,\n",
       "        0.        , 0.16666667],\n",
       "       [0.        , 0.        , 0.        , 0.33333333, 0.38888889,\n",
       "        0.41666667, 0.33333333],\n",
       "       [0.        , 0.        , 0.        , 0.        , 0.27777778,\n",
       "        0.41666667, 0.16666667],\n",
       "       [0.        , 0.        , 0.        , 0.33333333, 0.22222222,\n",
       "        0.16666667, 0.33333333]])"
      ]
     },
     "execution_count": 210,
     "metadata": {},
     "output_type": "execute_result"
    }
   ],
   "source": [
    "est.fit(A).W_"
   ]
  },
  {
   "cell_type": "code",
   "execution_count": 211,
   "metadata": {},
   "outputs": [
    {
     "data": {
      "text/plain": [
       "array([[0.33333333, 0.11111111, 0.        , 0.16666667],\n",
       "       [0.33333333, 0.38888889, 0.41666667, 0.33333333],\n",
       "       [0.        , 0.27777778, 0.41666667, 0.16666667],\n",
       "       [0.33333333, 0.22222222, 0.16666667, 0.33333333]])"
      ]
     },
     "execution_count": 211,
     "metadata": {},
     "output_type": "execute_result"
    }
   ],
   "source": [
    "W = est.fit(A).W_[3:,3:]\n",
    "W"
   ]
  },
  {
   "cell_type": "code",
   "execution_count": 212,
   "metadata": {},
   "outputs": [
    {
     "data": {
      "text/plain": [
       "array([[0.61111111, 0.16666667, 0.27777778],\n",
       "       [0.11111111, 0.41666667, 0.27777778],\n",
       "       [0.27777778, 0.41666667, 0.44444444]])"
      ]
     },
     "execution_count": 212,
     "metadata": {},
     "output_type": "execute_result"
    }
   ],
   "source": [
    "mat = np.array([[11/18, 1/6, 5/18],\n",
    "                 [1/9, 5/12, 5/18],\n",
    "                 [5/18, 5/12, 4/9]])\n",
    "mat"
   ]
  },
  {
   "cell_type": "markdown",
   "metadata": {},
   "source": [
    "#### On our bipartite graph"
   ]
  },
  {
   "cell_type": "markdown",
   "metadata": {},
   "source": [
    " We remove users and restaurants without rating."
   ]
  },
  {
   "cell_type": "code",
   "execution_count": 213,
   "metadata": {},
   "outputs": [],
   "source": [
    "B = nx.adjacency_matrix(G_us_re, nodelist=list(G_us_re.nodes())).toarray()"
   ]
  },
  {
   "cell_type": "code",
   "execution_count": 214,
   "metadata": {},
   "outputs": [],
   "source": [
    "s = 0\n",
    "empty_users = []\n",
    "for i in range(3000):\n",
    "  if sum(B[i,])==0:\n",
    "    # G_us_re.remove_node(users_list[i])\n",
    "    empty_users.append(users_list[i])\n",
    "    s += 1\n",
    "\n",
    "t = 0\n",
    "empty_restaurants = []\n",
    "for i in range(838):\n",
    "  if sum(B[i+3000,])==0:\n",
    "    # G_us_re.remove_node(restaurants_list[i])\n",
    "    empty_restaurants.append(restaurants_list[i])\n",
    "    t += 1\n",
    "\n",
    "users_list_ = list(set(users_list) - set(empty_users))\n",
    "restaurants_list_ = list(set(restaurants_list) - set(empty_restaurants))"
   ]
  },
  {
   "cell_type": "code",
   "execution_count": 226,
   "metadata": {},
   "outputs": [
    {
     "name": "stderr",
     "output_type": "stream",
     "text": [
      "/opt/anaconda3/lib/python3.7/site-packages/ipykernel_launcher.py:2: UserWarning: Boolean Series key will be reindexed to match DataFrame index.\n",
      "  \n"
     ]
    }
   ],
   "source": [
    "df_ratings_test_ = df_ratings_test[ df_ratings_test['user_id'].isin(users_list_) ]\n",
    "df_ratings_test__ = df_ratings_test_[ df_ratings_test['business_id'].isin(restaurants_list_) ]"
   ]
  },
  {
   "cell_type": "code",
   "execution_count": 227,
   "metadata": {},
   "outputs": [],
   "source": [
    "links_list = []\n",
    "for i in range(df_ratings_train.shape[0]):\n",
    "    links_list.append((df_ratings_train['user_id'][i], df_ratings_train['business_id'][i], 1))\n",
    "\n",
    "G_us_re_ = nx.Graph()\n",
    "\n",
    "G_us_re_.add_nodes_from(users_list_, bipartite=0)\n",
    "G_us_re_.add_nodes_from(restaurants_list_, bipartite=1)\n",
    "\n",
    "G_us_re_.add_weighted_edges_from(links_list)\n",
    "\n",
    "if nx.is_connected(G_us_re_):\n",
    "    restaurants_nodes, users_nodes = nx.bipartite.sets(G_us_re_)\n",
    "else:\n",
    "    users_nodes = {n for n, d in G_us_re_.nodes(data=True) if d['bipartite']==0}\n",
    "    restaurants_nodes = set(G_us_re_) - users_nodes_\n",
    "\n",
    "G_us_re_edges = G_us_re.edges()\n",
    "G_us_re_edges_w = G_us_re.edges.data('weight', default=0)"
   ]
  },
  {
   "cell_type": "code",
   "execution_count": 228,
   "metadata": {},
   "outputs": [],
   "source": [
    "def initial_resource(k):\n",
    "  '''\n",
    "  Returns the initial rating vector of the k-th user\n",
    "  '''\n",
    "  # n_restos = len(restaurants_list)-11\n",
    "  n_restos = len(restaurants_list_)\n",
    "  f_0 = np.zeros((n_restos, 1))\n",
    "  \n",
    "  user_id = users_list_[k]\n",
    "  restos_ids = df_ratings_train[df_ratings_train['user_id']==user_id]['business_id'].values\n",
    "  ratings = df_ratings_train[df_ratings_train['user_id']==user_id]['rating'].values\n",
    "  \n",
    "  for i in range(len(restos_ids)):\n",
    "    resto_idx = restaurants_list_.index(restos_ids[i])\n",
    "    if ratings[i] > 2:\n",
    "      f_0[resto_idx] = 1\n",
    "    else:\n",
    "      f_0[resto_idx] = 0\n",
    "  \n",
    "  return f_0"
   ]
  },
  {
   "cell_type": "code",
   "execution_count": 229,
   "metadata": {},
   "outputs": [
    {
     "data": {
      "text/plain": [
       "(3695, 3695)"
      ]
     },
     "execution_count": 229,
     "metadata": {},
     "output_type": "execute_result"
    }
   ],
   "source": [
    "C = nx.adjacency_matrix(G_us_re_, nodelist=list(G_us_re_.nodes())).toarray()\n",
    "C.shape"
   ]
  },
  {
   "cell_type": "code",
   "execution_count": 230,
   "metadata": {},
   "outputs": [],
   "source": [
    "estimator = NBI()"
   ]
  },
  {
   "cell_type": "code",
   "execution_count": 231,
   "metadata": {},
   "outputs": [],
   "source": [
    "complete_W_ = estimator.fit(C).W_"
   ]
  },
  {
   "cell_type": "code",
   "execution_count": 232,
   "metadata": {},
   "outputs": [],
   "source": [
    "W_ = complete_W_[2868:,2868:]\n",
    "np.savetxt('U matrix', W_, fmt='%.18e', delimiter=' ', newline='\\n', header='', footer='', comments='# ', encoding=None)"
   ]
  },
  {
   "cell_type": "code",
   "execution_count": 233,
   "metadata": {},
   "outputs": [
    {
     "data": {
      "text/plain": [
       "array([[0.06753264, 0.00035842, 0.        , ..., 0.        , 0.        ,\n",
       "        0.        ],\n",
       "       [0.00046751, 0.13089334, 0.01282051, ..., 0.        , 0.        ,\n",
       "        0.        ],\n",
       "       [0.        , 0.00128205, 0.0576481 , ..., 0.        , 0.        ,\n",
       "        0.        ],\n",
       "       ...,\n",
       "       [0.        , 0.        , 0.        , ..., 0.04895833, 0.        ,\n",
       "        0.        ],\n",
       "       [0.        , 0.        , 0.        , ..., 0.        , 0.21537037,\n",
       "        0.        ],\n",
       "       [0.        , 0.        , 0.        , ..., 0.        , 0.        ,\n",
       "        0.09384318]])"
      ]
     },
     "execution_count": 233,
     "metadata": {},
     "output_type": "execute_result"
    }
   ],
   "source": [
    "W_"
   ]
  },
  {
   "cell_type": "code",
   "execution_count": 234,
   "metadata": {},
   "outputs": [],
   "source": [
    "def recommended_restos(W_f):\n",
    "  n = W_f.shape[0]\n",
    "  liste = [W_f[i,0] for i in range(n)]\n",
    "  sorted_idx = np.flip(np.argsort(liste))\n",
    "  selected_idx = sorted_idx[:int(0.6*n)]\n",
    "\n",
    "  selected_restos = []\n",
    "  for i in selected_idx:\n",
    "    selected_restos.append(restaurants_list_[i])\n",
    "  return selected_restos"
   ]
  },
  {
   "cell_type": "code",
   "execution_count": 235,
   "metadata": {},
   "outputs": [
    {
     "name": "stdout",
     "output_type": "stream",
     "text": [
      "accuracy on test set = 70.7659873506676 %\n"
     ]
    }
   ],
   "source": [
    "accuracy = 0\n",
    "longueur = 0\n",
    "\n",
    "for i in range(len(df_ratings_test__)):\n",
    "  user = df_ratings_test__.iloc[i]['user_id']\n",
    "  user_idx = users_list_.index(user)\n",
    "  restaurant = df_ratings_test__.iloc[i]['business_id']\n",
    "  rating = df_ratings_test__.iloc[i]['rating']\n",
    "\n",
    "  W_f = W_.dot(initial_resource(user_idx))\n",
    "  recommended = recommended_restos(W_f)\n",
    "\n",
    "  if (rating > 2) and (restaurant in recommended):\n",
    "    accuracy += 1\n",
    "\n",
    "accuracy = accuracy/len(df_ratings_test__)\n",
    "print(\"accuracy on test set =\", 100*accuracy, \"%\")"
   ]
  },
  {
   "cell_type": "markdown",
   "metadata": {},
   "source": [
    "## Rating prediction based on User-User Graph"
   ]
  },
  {
   "cell_type": "markdown",
   "metadata": {},
   "source": [
    "#### Jaccard similarity"
   ]
  },
  {
   "cell_type": "code",
   "execution_count": 88,
   "metadata": {},
   "outputs": [],
   "source": [
    "df_similarities_user_uni = pd.DataFrame(columns = users_list, index = users_list)\n",
    "for u in users_list:\n",
    "    for v in users_list:\n",
    "        jac = nx.jaccard_coefficient(G_users, [(u,v)])\n",
    "        for a,b,c in jac:\n",
    "            df_similarities_user_uni[u][v] = c"
   ]
  },
  {
   "cell_type": "code",
   "execution_count": 89,
   "metadata": {},
   "outputs": [],
   "source": [
    "for u in users_list:\n",
    "    df_similarities_user_uni[u][u] = 1.0"
   ]
  },
  {
   "cell_type": "code",
   "execution_count": 90,
   "metadata": {},
   "outputs": [],
   "source": [
    "df_similarities_user_uni.to_csv('similarities_unipartite_jaccard_users_bis.csv')"
   ]
  },
  {
   "cell_type": "code",
   "execution_count": 91,
   "metadata": {},
   "outputs": [],
   "source": [
    "pred_useruser = make_pred_userCF(df_ratings_test,df_similarities_user_uni)\n"
   ]
  },
  {
   "cell_type": "code",
   "execution_count": 92,
   "metadata": {},
   "outputs": [
    {
     "data": {
      "text/plain": [
       "1.9932756406260481"
      ]
     },
     "execution_count": 92,
     "metadata": {},
     "output_type": "execute_result"
    }
   ],
   "source": [
    "mean_squared_error(df_ratings_test['rating'], pred_useruser)"
   ]
  },
  {
   "cell_type": "code",
   "execution_count": 93,
   "metadata": {
    "scrolled": true
   },
   "outputs": [
    {
     "data": {
      "text/plain": [
       "1.1869644644833475"
      ]
     },
     "execution_count": 93,
     "metadata": {},
     "output_type": "execute_result"
    }
   ],
   "source": [
    "mean_absolute_error(df_ratings_test['rating'], pred_useruser)"
   ]
  },
  {
   "cell_type": "code",
   "execution_count": 94,
   "metadata": {},
   "outputs": [
    {
     "data": {
      "text/plain": [
       "629"
      ]
     },
     "execution_count": 94,
     "metadata": {},
     "output_type": "execute_result"
    }
   ],
   "source": [
    "nb_changed_values = df_ratings_test.shape[0]-pred_useruser.count(average_train)\n",
    "nb_changed_values"
   ]
  },
  {
   "cell_type": "markdown",
   "metadata": {},
   "source": [
    "#### Other similarity measure: FriendTNS"
   ]
  },
  {
   "cell_type": "code",
   "execution_count": 95,
   "metadata": {},
   "outputs": [],
   "source": [
    "def friendTNS(G_users,u,v):\n",
    "    sim = 0\n",
    "    edges = [e for e in G_users.edges()]\n",
    "    if (u,v) in edges or (v,u) in edges:\n",
    "        sim = 1/(G_users.degree(u)+G_users.degree(v)-1)\n",
    "    else:\n",
    "        sim = 0\n",
    "    return sim "
   ]
  },
  {
   "cell_type": "code",
   "execution_count": 96,
   "metadata": {},
   "outputs": [],
   "source": [
    "ar_similarities_user_uniTNS = np.zeros((len(users_list), len(users_list)))\n",
    "for u in range(len(users_list)):\n",
    "    for v in range(u, len(users_list)):\n",
    "        ar_similarities_user_uniTNS[u][v] = friendTNS(G_users, users_list[u], users_list[v])"
   ]
  },
  {
   "cell_type": "code",
   "execution_count": 97,
   "metadata": {},
   "outputs": [],
   "source": [
    "ar_similarities_user_uniTNS_f = ar_similarities_user_uniTNS + ar_similarities_user_uniTNS.transpose() - np.eye(len(users_list))\n",
    "df_similarities_user_uniTNS = pd.DataFrame(ar_similarities_user_uniTNS_f, columns = users_list, index = users_list)"
   ]
  },
  {
   "cell_type": "code",
   "execution_count": 98,
   "metadata": {},
   "outputs": [],
   "source": [
    "for u in users_list:\n",
    "    df_similarities_user_uniTNS[u][u] = 1.0"
   ]
  },
  {
   "cell_type": "code",
   "execution_count": 99,
   "metadata": {},
   "outputs": [],
   "source": [
    "df_similarities_user_uniTNS.to_csv('similarities_unipartite_TNS_users_bis.csv')"
   ]
  },
  {
   "cell_type": "code",
   "execution_count": 100,
   "metadata": {},
   "outputs": [],
   "source": [
    "pred_useruserTNS = make_pred_userCF(df_ratings_test,df_similarities_user_uniTNS)"
   ]
  },
  {
   "cell_type": "code",
   "execution_count": 101,
   "metadata": {},
   "outputs": [
    {
     "data": {
      "text/plain": [
       "1.9713999069857184"
      ]
     },
     "execution_count": 101,
     "metadata": {},
     "output_type": "execute_result"
    }
   ],
   "source": [
    "mean_squared_error(df_ratings_test['rating'], pred_useruserTNS)"
   ]
  },
  {
   "cell_type": "code",
   "execution_count": 102,
   "metadata": {},
   "outputs": [
    {
     "data": {
      "text/plain": [
       "1.1936409528162337"
      ]
     },
     "execution_count": 102,
     "metadata": {},
     "output_type": "execute_result"
    }
   ],
   "source": [
    "mean_absolute_error(df_ratings_test['rating'], pred_useruserTNS)"
   ]
  },
  {
   "cell_type": "code",
   "execution_count": 103,
   "metadata": {},
   "outputs": [
    {
     "data": {
      "text/plain": [
       "267"
      ]
     },
     "execution_count": 103,
     "metadata": {},
     "output_type": "execute_result"
    }
   ],
   "source": [
    "nb_changed_values = df_ratings_test.shape[0]-pred_useruserTNS.count(average_train)\n",
    "nb_changed_values"
   ]
  },
  {
   "cell_type": "markdown",
   "metadata": {},
   "source": [
    "Remark:"
   ]
  },
  {
   "cell_type": "code",
   "execution_count": 104,
   "metadata": {},
   "outputs": [
    {
     "data": {
      "text/plain": [
       "1812"
      ]
     },
     "execution_count": 104,
     "metadata": {},
     "output_type": "execute_result"
    }
   ],
   "source": [
    "len([a for a in nx.isolates(G_users)])"
   ]
  },
  {
   "cell_type": "markdown",
   "metadata": {},
   "source": [
    "We have 1812 users without any friend. That's why the prediction using the unipartite graph is not really performant."
   ]
  },
  {
   "cell_type": "markdown",
   "metadata": {},
   "source": [
    "## Rating prediction based on Multi Graph"
   ]
  },
  {
   "cell_type": "markdown",
   "metadata": {},
   "source": [
    "We will use our different similarity matrices in order to develop a better recommendation system based on our two users similarity matrices."
   ]
  },
  {
   "cell_type": "code",
   "execution_count": 105,
   "metadata": {},
   "outputs": [],
   "source": [
    "from sklearn.preprocessing import MinMaxScaler"
   ]
  },
  {
   "cell_type": "code",
   "execution_count": 106,
   "metadata": {},
   "outputs": [],
   "source": [
    "df_1 = pd.read_csv('similarities_bipartite_users_bis.csv')\n",
    "df_2 = pd.read_csv('similarities_unipartite_TNS_users_bis.csv')\n",
    "df_1 = df_1.set_index('Unnamed: 0')\n",
    "df_2 = df_2.set_index('Unnamed: 0')"
   ]
  },
  {
   "cell_type": "code",
   "execution_count": 107,
   "metadata": {},
   "outputs": [],
   "source": [
    "#Normalization of our similarity matrices\n",
    "ar_1 = df_1.values\n",
    "std1 = ar_1.std(ddof=1)\n",
    "mean1 = ar_1.mean()\n",
    "ar_1 = (ar_1-mean1)/std1\n",
    "df_sim_1 = pd.DataFrame(ar_1, columns = users_list, index = users_list)\n",
    "\n",
    "scaler = MinMaxScaler()\n",
    "df_sim_1_sc = pd.DataFrame(scaler.fit_transform(df_sim_1), columns=df_sim_1.columns, index=df_sim_1.index)\n"
   ]
  },
  {
   "cell_type": "code",
   "execution_count": 108,
   "metadata": {},
   "outputs": [],
   "source": [
    "ar_2 = df_2.values\n",
    "std2 = ar_2.std(ddof=1)\n",
    "mean2 = ar_2.mean()\n",
    "ar_2 = (ar_2-mean2)/std2\n",
    "df_sim_2 = pd.DataFrame(ar_2, columns = users_list, index = users_list)\n",
    "\n",
    "scaler = MinMaxScaler()\n",
    "df_sim_2_sc = pd.DataFrame(scaler.fit_transform(df_sim_2), columns=df_sim_2.columns, index=df_sim_2.index)\n"
   ]
  },
  {
   "cell_type": "code",
   "execution_count": 109,
   "metadata": {},
   "outputs": [],
   "source": [
    "def rating_u_i(u,i,G_us_re,G_users,df_sim_1_sc,df_sim_2_sc,average_train):\n",
    "    A = (G_users.degree(u)*G_users.number_of_nodes())/nx.adjacency_matrix(G_users).count_nonzero()\n",
    "    R = (G_us_re.degree(u)*G_users.number_of_nodes())/G_us_re.number_of_edges()\n",
    "    if A+R !=0:\n",
    "        r = R/(A+R)\n",
    "    else:\n",
    "        r=1/2\n",
    "    similarities_1 = np.asarray(df_sim_1_sc[u])\n",
    "    similarities_2 = np.asarray(df_sim_2_sc[u])\n",
    "    ar_sim = r*similarities_1 + (1-r)*similarities_2\n",
    "    \n",
    "    n,d = 0,0\n",
    "    pred = 0\n",
    "    for v in users_list:\n",
    "        index_v = users_list.index(v)\n",
    "        rating_v_i = G_us_re.get_edge_data(v,i,default={'weight': 0.0})['weight']\n",
    "        if rating_v_i != 0:\n",
    "            n += ar_sim[index_v]*rating_v_i\n",
    "            d += ar_sim[index_v]\n",
    "    if d !=0:\n",
    "        pred = n/d\n",
    "    else:\n",
    "        pred = average_train\n",
    "    return pred\n",
    "    "
   ]
  },
  {
   "cell_type": "code",
   "execution_count": 110,
   "metadata": {},
   "outputs": [],
   "source": [
    "def rating_predictions(df_ratings_test,G_us_re,G_users,df_sim_1_sc,df_sim_2_sc,average_train):\n",
    "    pred = []\n",
    "    for z in range(df_ratings_test.shape[0]):\n",
    "        userid = df_ratings_test['user_id'][z]\n",
    "        businessid = df_ratings_test['business_id'][z]\n",
    "        pred.append(rating_u_i(userid,businessid,G_us_re,G_users,df_sim_1_sc,df_sim_2_sc,average_train))\n",
    "    return pred"
   ]
  },
  {
   "cell_type": "code",
   "execution_count": 111,
   "metadata": {},
   "outputs": [],
   "source": [
    "pred_multi = rating_predictions(df_ratings_test,G_us_re,G_users,df_sim_1_sc,df_sim_2_sc,average_train)\n"
   ]
  },
  {
   "cell_type": "code",
   "execution_count": 112,
   "metadata": {},
   "outputs": [
    {
     "data": {
      "text/plain": [
       "1.8698799201133873"
      ]
     },
     "execution_count": 112,
     "metadata": {},
     "output_type": "execute_result"
    }
   ],
   "source": [
    "mean_squared_error(df_ratings_test['rating'], pred_multi)"
   ]
  },
  {
   "cell_type": "code",
   "execution_count": 113,
   "metadata": {},
   "outputs": [
    {
     "data": {
      "text/plain": [
       "1.0943437483232776"
      ]
     },
     "execution_count": 113,
     "metadata": {},
     "output_type": "execute_result"
    }
   ],
   "source": [
    "mean_absolute_error(df_ratings_test['rating'], pred_multi)"
   ]
  },
  {
   "cell_type": "code",
   "execution_count": 114,
   "metadata": {},
   "outputs": [
    {
     "data": {
      "text/plain": [
       "2727"
      ]
     },
     "execution_count": 114,
     "metadata": {},
     "output_type": "execute_result"
    }
   ],
   "source": [
    "nb_changed_values = df_ratings_test.shape[0]-pred_multi.count(average_train)\n",
    "nb_changed_values"
   ]
  },
  {
   "cell_type": "code",
   "execution_count": 115,
   "metadata": {},
   "outputs": [],
   "source": [
    "df_ratings_test_pred = df_ratings_test[['user_id','business_id','rating']]\n",
    "df_ratings_test_pred['predicted'] = pred_multi"
   ]
  },
  {
   "cell_type": "code",
   "execution_count": 132,
   "metadata": {},
   "outputs": [
    {
     "data": {
      "text/html": [
       "<div>\n",
       "<style scoped>\n",
       "    .dataframe tbody tr th:only-of-type {\n",
       "        vertical-align: middle;\n",
       "    }\n",
       "\n",
       "    .dataframe tbody tr th {\n",
       "        vertical-align: top;\n",
       "    }\n",
       "\n",
       "    .dataframe thead th {\n",
       "        text-align: right;\n",
       "    }\n",
       "</style>\n",
       "<table border=\"1\" class=\"dataframe\">\n",
       "  <thead>\n",
       "    <tr style=\"text-align: right;\">\n",
       "      <th></th>\n",
       "      <th>user_id</th>\n",
       "      <th>business_id</th>\n",
       "      <th>rating</th>\n",
       "      <th>predicted</th>\n",
       "    </tr>\n",
       "  </thead>\n",
       "  <tbody>\n",
       "    <tr>\n",
       "      <td>0</td>\n",
       "      <td>6X0i-oGUbh5DZdTHzFuKfg</td>\n",
       "      <td>dHkbBWmXXjaO_-9BgQyEPg</td>\n",
       "      <td>1.0</td>\n",
       "      <td>2.568443</td>\n",
       "    </tr>\n",
       "    <tr>\n",
       "      <td>1</td>\n",
       "      <td>TPFWtsUi_GwNm6BX6vGv5g</td>\n",
       "      <td>F1qPjasn0R6-j8sa6iYNmA</td>\n",
       "      <td>4.0</td>\n",
       "      <td>2.940811</td>\n",
       "    </tr>\n",
       "    <tr>\n",
       "      <td>2</td>\n",
       "      <td>-o-EaM-C3PROpIcwtI_AFw</td>\n",
       "      <td>QxbVPV2xndVP-nT1IRKF1w</td>\n",
       "      <td>2.0</td>\n",
       "      <td>4.000000</td>\n",
       "    </tr>\n",
       "    <tr>\n",
       "      <td>3</td>\n",
       "      <td>CHkneOHkRH9Yf-LY-XlTIg</td>\n",
       "      <td>eJtmOfqwGj5sYKQrB01oWQ</td>\n",
       "      <td>1.0</td>\n",
       "      <td>3.204360</td>\n",
       "    </tr>\n",
       "    <tr>\n",
       "      <td>4</td>\n",
       "      <td>oJl-C8UECsibhHS2dB8yzQ</td>\n",
       "      <td>PBmfdx-tC2D54FI3HtcKww</td>\n",
       "      <td>2.0</td>\n",
       "      <td>3.224926</td>\n",
       "    </tr>\n",
       "  </tbody>\n",
       "</table>\n",
       "</div>"
      ],
      "text/plain": [
       "                  user_id             business_id  rating  predicted\n",
       "0  6X0i-oGUbh5DZdTHzFuKfg  dHkbBWmXXjaO_-9BgQyEPg     1.0   2.568443\n",
       "1  TPFWtsUi_GwNm6BX6vGv5g  F1qPjasn0R6-j8sa6iYNmA     4.0   2.940811\n",
       "2  -o-EaM-C3PROpIcwtI_AFw  QxbVPV2xndVP-nT1IRKF1w     2.0   4.000000\n",
       "3  CHkneOHkRH9Yf-LY-XlTIg  eJtmOfqwGj5sYKQrB01oWQ     1.0   3.204360\n",
       "4  oJl-C8UECsibhHS2dB8yzQ  PBmfdx-tC2D54FI3HtcKww     2.0   3.224926"
      ]
     },
     "execution_count": 132,
     "metadata": {},
     "output_type": "execute_result"
    }
   ],
   "source": [
    "df_ratings_test_pred.head()"
   ]
  },
  {
   "cell_type": "code",
   "execution_count": 141,
   "metadata": {},
   "outputs": [],
   "source": [
    "df_ratings_test_pred_x = df_ratings_test_pred.copy()\n",
    "df_ratings_test_pred_x['pred_round']= round(df_ratings_test_pred_x['predicted'])\n"
   ]
  },
  {
   "cell_type": "code",
   "execution_count": 143,
   "metadata": {},
   "outputs": [
    {
     "data": {
      "text/plain": [
       "1.9683333333333333"
      ]
     },
     "execution_count": 143,
     "metadata": {},
     "output_type": "execute_result"
    }
   ],
   "source": [
    "mean_squared_error(df_ratings_test_pred_x['rating'], df_ratings_test_pred_x['pred_round'])"
   ]
  },
  {
   "cell_type": "code",
   "execution_count": 144,
   "metadata": {},
   "outputs": [
    {
     "data": {
      "text/plain": [
       "1.0736666666666668"
      ]
     },
     "execution_count": 144,
     "metadata": {},
     "output_type": "execute_result"
    }
   ],
   "source": [
    "mean_absolute_error(df_ratings_test_pred_x['rating'], df_ratings_test_pred_x['pred_round'])"
   ]
  },
  {
   "cell_type": "code",
   "execution_count": 142,
   "metadata": {},
   "outputs": [
    {
     "data": {
      "text/html": [
       "<div>\n",
       "<style scoped>\n",
       "    .dataframe tbody tr th:only-of-type {\n",
       "        vertical-align: middle;\n",
       "    }\n",
       "\n",
       "    .dataframe tbody tr th {\n",
       "        vertical-align: top;\n",
       "    }\n",
       "\n",
       "    .dataframe thead th {\n",
       "        text-align: right;\n",
       "    }\n",
       "</style>\n",
       "<table border=\"1\" class=\"dataframe\">\n",
       "  <thead>\n",
       "    <tr style=\"text-align: right;\">\n",
       "      <th></th>\n",
       "      <th>user_id</th>\n",
       "      <th>business_id</th>\n",
       "      <th>rating</th>\n",
       "      <th>predicted</th>\n",
       "      <th>pred_round</th>\n",
       "    </tr>\n",
       "  </thead>\n",
       "  <tbody>\n",
       "    <tr>\n",
       "      <td>6</td>\n",
       "      <td>ZgWVyPXX6bpmLDV1xvOl-w</td>\n",
       "      <td>kNtToQSP_Y5U8tznLXuCaw</td>\n",
       "      <td>4.0</td>\n",
       "      <td>4.007034</td>\n",
       "      <td>4.0</td>\n",
       "    </tr>\n",
       "    <tr>\n",
       "      <td>7</td>\n",
       "      <td>D-Yf58g7ZqYucgja1TUdVQ</td>\n",
       "      <td>9A1C1f0m4nQltQrOOTl-Kw</td>\n",
       "      <td>3.0</td>\n",
       "      <td>3.000000</td>\n",
       "      <td>3.0</td>\n",
       "    </tr>\n",
       "    <tr>\n",
       "      <td>9</td>\n",
       "      <td>iQt3ya8qaVJ347rJi5jSmA</td>\n",
       "      <td>i_t8WTwztuHweRqQ89hmuQ</td>\n",
       "      <td>4.0</td>\n",
       "      <td>3.614830</td>\n",
       "      <td>4.0</td>\n",
       "    </tr>\n",
       "    <tr>\n",
       "      <td>12</td>\n",
       "      <td>Yk3-qONLlCxzxc5bS-ImSQ</td>\n",
       "      <td>6ockUmdOBYBApEsUCJkBzA</td>\n",
       "      <td>5.0</td>\n",
       "      <td>4.779984</td>\n",
       "      <td>5.0</td>\n",
       "    </tr>\n",
       "    <tr>\n",
       "      <td>15</td>\n",
       "      <td>DPldvSGto59lJadlRxpmrw</td>\n",
       "      <td>9A1C1f0m4nQltQrOOTl-Kw</td>\n",
       "      <td>4.0</td>\n",
       "      <td>3.539027</td>\n",
       "      <td>4.0</td>\n",
       "    </tr>\n",
       "    <tr>\n",
       "      <td>...</td>\n",
       "      <td>...</td>\n",
       "      <td>...</td>\n",
       "      <td>...</td>\n",
       "      <td>...</td>\n",
       "      <td>...</td>\n",
       "    </tr>\n",
       "    <tr>\n",
       "      <td>2965</td>\n",
       "      <td>aQ1ztNVjHnGFKKnVSATkTQ</td>\n",
       "      <td>rXIDrS8Rz8r09vH4gjHfGQ</td>\n",
       "      <td>4.0</td>\n",
       "      <td>4.320066</td>\n",
       "      <td>4.0</td>\n",
       "    </tr>\n",
       "    <tr>\n",
       "      <td>2970</td>\n",
       "      <td>ZdzoROWb3lpr4qNOAoxtzw</td>\n",
       "      <td>0tU2xdfTSfz-BwD4VhtVAQ</td>\n",
       "      <td>4.0</td>\n",
       "      <td>3.624949</td>\n",
       "      <td>4.0</td>\n",
       "    </tr>\n",
       "    <tr>\n",
       "      <td>2980</td>\n",
       "      <td>dV4wf3PTE70HdaANCfcoZA</td>\n",
       "      <td>joCHRYAw1a5m-1ZhJ7uAGQ</td>\n",
       "      <td>5.0</td>\n",
       "      <td>4.626765</td>\n",
       "      <td>5.0</td>\n",
       "    </tr>\n",
       "    <tr>\n",
       "      <td>2988</td>\n",
       "      <td>_J5b7ykbzdxa5tmuhb74gQ</td>\n",
       "      <td>zp3rZNu-5qonTL3ByPYOUg</td>\n",
       "      <td>4.0</td>\n",
       "      <td>3.624949</td>\n",
       "      <td>4.0</td>\n",
       "    </tr>\n",
       "    <tr>\n",
       "      <td>2997</td>\n",
       "      <td>Qu_MI93Sxl02KXNj-ylxAQ</td>\n",
       "      <td>E8b-loa-89wsnJpu9ff_Gg</td>\n",
       "      <td>4.0</td>\n",
       "      <td>3.624949</td>\n",
       "      <td>4.0</td>\n",
       "    </tr>\n",
       "  </tbody>\n",
       "</table>\n",
       "<p>825 rows × 5 columns</p>\n",
       "</div>"
      ],
      "text/plain": [
       "                     user_id             business_id  rating  predicted  \\\n",
       "6     ZgWVyPXX6bpmLDV1xvOl-w  kNtToQSP_Y5U8tznLXuCaw     4.0   4.007034   \n",
       "7     D-Yf58g7ZqYucgja1TUdVQ  9A1C1f0m4nQltQrOOTl-Kw     3.0   3.000000   \n",
       "9     iQt3ya8qaVJ347rJi5jSmA  i_t8WTwztuHweRqQ89hmuQ     4.0   3.614830   \n",
       "12    Yk3-qONLlCxzxc5bS-ImSQ  6ockUmdOBYBApEsUCJkBzA     5.0   4.779984   \n",
       "15    DPldvSGto59lJadlRxpmrw  9A1C1f0m4nQltQrOOTl-Kw     4.0   3.539027   \n",
       "...                      ...                     ...     ...        ...   \n",
       "2965  aQ1ztNVjHnGFKKnVSATkTQ  rXIDrS8Rz8r09vH4gjHfGQ     4.0   4.320066   \n",
       "2970  ZdzoROWb3lpr4qNOAoxtzw  0tU2xdfTSfz-BwD4VhtVAQ     4.0   3.624949   \n",
       "2980  dV4wf3PTE70HdaANCfcoZA  joCHRYAw1a5m-1ZhJ7uAGQ     5.0   4.626765   \n",
       "2988  _J5b7ykbzdxa5tmuhb74gQ  zp3rZNu-5qonTL3ByPYOUg     4.0   3.624949   \n",
       "2997  Qu_MI93Sxl02KXNj-ylxAQ  E8b-loa-89wsnJpu9ff_Gg     4.0   3.624949   \n",
       "\n",
       "      pred_round  \n",
       "6            4.0  \n",
       "7            3.0  \n",
       "9            4.0  \n",
       "12           5.0  \n",
       "15           4.0  \n",
       "...          ...  \n",
       "2965         4.0  \n",
       "2970         4.0  \n",
       "2980         5.0  \n",
       "2988         4.0  \n",
       "2997         4.0  \n",
       "\n",
       "[825 rows x 5 columns]"
      ]
     },
     "execution_count": 142,
     "metadata": {},
     "output_type": "execute_result"
    }
   ],
   "source": [
    "df_ratings_test_pred_x.loc[df_ratings_test_pred_x['pred_round']==df_ratings_test_pred_x['rating']]"
   ]
  },
  {
   "cell_type": "code",
   "execution_count": 138,
   "metadata": {},
   "outputs": [
    {
     "data": {
      "text/html": [
       "<div>\n",
       "<style scoped>\n",
       "    .dataframe tbody tr th:only-of-type {\n",
       "        vertical-align: middle;\n",
       "    }\n",
       "\n",
       "    .dataframe tbody tr th {\n",
       "        vertical-align: top;\n",
       "    }\n",
       "\n",
       "    .dataframe thead th {\n",
       "        text-align: right;\n",
       "    }\n",
       "</style>\n",
       "<table border=\"1\" class=\"dataframe\">\n",
       "  <thead>\n",
       "    <tr style=\"text-align: right;\">\n",
       "      <th></th>\n",
       "      <th>user_id</th>\n",
       "      <th>business_id</th>\n",
       "      <th>rating</th>\n",
       "      <th>predicted</th>\n",
       "      <th>pred_round</th>\n",
       "    </tr>\n",
       "  </thead>\n",
       "  <tbody>\n",
       "    <tr>\n",
       "      <td>1</td>\n",
       "      <td>TPFWtsUi_GwNm6BX6vGv5g</td>\n",
       "      <td>F1qPjasn0R6-j8sa6iYNmA</td>\n",
       "      <td>4.0</td>\n",
       "      <td>2.940811</td>\n",
       "      <td>3.0</td>\n",
       "    </tr>\n",
       "    <tr>\n",
       "      <td>5</td>\n",
       "      <td>JbRnDXp6ylbCw3jURKcB3g</td>\n",
       "      <td>hvPPw19VdGRsOEkxgyD7tg</td>\n",
       "      <td>5.0</td>\n",
       "      <td>4.251669</td>\n",
       "      <td>4.0</td>\n",
       "    </tr>\n",
       "    <tr>\n",
       "      <td>14</td>\n",
       "      <td>Rdp3C5KacNRbufVLL_XhMA</td>\n",
       "      <td>jeTfL2kCyBtmFGSrSQHqVw</td>\n",
       "      <td>5.0</td>\n",
       "      <td>4.153662</td>\n",
       "      <td>4.0</td>\n",
       "    </tr>\n",
       "    <tr>\n",
       "      <td>20</td>\n",
       "      <td>L_sVLn8BBDiVSNVlQOfCYg</td>\n",
       "      <td>L2c-qKZWumCmOCR-dqBLrg</td>\n",
       "      <td>5.0</td>\n",
       "      <td>4.173412</td>\n",
       "      <td>4.0</td>\n",
       "    </tr>\n",
       "    <tr>\n",
       "      <td>22</td>\n",
       "      <td>t9EWoO3fay-4_yJtCGdp3w</td>\n",
       "      <td>kNtToQSP_Y5U8tznLXuCaw</td>\n",
       "      <td>5.0</td>\n",
       "      <td>4.111889</td>\n",
       "      <td>4.0</td>\n",
       "    </tr>\n",
       "    <tr>\n",
       "      <td>...</td>\n",
       "      <td>...</td>\n",
       "      <td>...</td>\n",
       "      <td>...</td>\n",
       "      <td>...</td>\n",
       "      <td>...</td>\n",
       "    </tr>\n",
       "    <tr>\n",
       "      <td>2990</td>\n",
       "      <td>DMF6Gle5GC35h4lcl67x-Q</td>\n",
       "      <td>l4x5FFzfiCFrGN0S-uZbBQ</td>\n",
       "      <td>5.0</td>\n",
       "      <td>3.624949</td>\n",
       "      <td>4.0</td>\n",
       "    </tr>\n",
       "    <tr>\n",
       "      <td>2994</td>\n",
       "      <td>N4PnVYepGliRXeeITxN0iw</td>\n",
       "      <td>6jsuYyjUM45WAX-6SxOQgQ</td>\n",
       "      <td>5.0</td>\n",
       "      <td>3.624949</td>\n",
       "      <td>4.0</td>\n",
       "    </tr>\n",
       "    <tr>\n",
       "      <td>2995</td>\n",
       "      <td>1LtJ5w7YaxaN0equ3Oq6pw</td>\n",
       "      <td>dIUHCuiAlzkxfgCEOtky8w</td>\n",
       "      <td>5.0</td>\n",
       "      <td>3.624949</td>\n",
       "      <td>4.0</td>\n",
       "    </tr>\n",
       "    <tr>\n",
       "      <td>2996</td>\n",
       "      <td>EeOcpXst4ihchMBvNkAoUA</td>\n",
       "      <td>dIUHCuiAlzkxfgCEOtky8w</td>\n",
       "      <td>5.0</td>\n",
       "      <td>3.624949</td>\n",
       "      <td>4.0</td>\n",
       "    </tr>\n",
       "    <tr>\n",
       "      <td>2999</td>\n",
       "      <td>lapTa693-7gVGWJ7tnuHfQ</td>\n",
       "      <td>Oe0hWqy0oYQQm5ND6pObGw</td>\n",
       "      <td>5.0</td>\n",
       "      <td>3.624949</td>\n",
       "      <td>4.0</td>\n",
       "    </tr>\n",
       "  </tbody>\n",
       "</table>\n",
       "<p>1002 rows × 5 columns</p>\n",
       "</div>"
      ],
      "text/plain": [
       "                     user_id             business_id  rating  predicted  \\\n",
       "1     TPFWtsUi_GwNm6BX6vGv5g  F1qPjasn0R6-j8sa6iYNmA     4.0   2.940811   \n",
       "5     JbRnDXp6ylbCw3jURKcB3g  hvPPw19VdGRsOEkxgyD7tg     5.0   4.251669   \n",
       "14    Rdp3C5KacNRbufVLL_XhMA  jeTfL2kCyBtmFGSrSQHqVw     5.0   4.153662   \n",
       "20    L_sVLn8BBDiVSNVlQOfCYg  L2c-qKZWumCmOCR-dqBLrg     5.0   4.173412   \n",
       "22    t9EWoO3fay-4_yJtCGdp3w  kNtToQSP_Y5U8tznLXuCaw     5.0   4.111889   \n",
       "...                      ...                     ...     ...        ...   \n",
       "2990  DMF6Gle5GC35h4lcl67x-Q  l4x5FFzfiCFrGN0S-uZbBQ     5.0   3.624949   \n",
       "2994  N4PnVYepGliRXeeITxN0iw  6jsuYyjUM45WAX-6SxOQgQ     5.0   3.624949   \n",
       "2995  1LtJ5w7YaxaN0equ3Oq6pw  dIUHCuiAlzkxfgCEOtky8w     5.0   3.624949   \n",
       "2996  EeOcpXst4ihchMBvNkAoUA  dIUHCuiAlzkxfgCEOtky8w     5.0   3.624949   \n",
       "2999  lapTa693-7gVGWJ7tnuHfQ  Oe0hWqy0oYQQm5ND6pObGw     5.0   3.624949   \n",
       "\n",
       "      pred_round  \n",
       "1            3.0  \n",
       "5            4.0  \n",
       "14           4.0  \n",
       "20           4.0  \n",
       "22           4.0  \n",
       "...          ...  \n",
       "2990         4.0  \n",
       "2994         4.0  \n",
       "2995         4.0  \n",
       "2996         4.0  \n",
       "2999         4.0  \n",
       "\n",
       "[1002 rows x 5 columns]"
      ]
     },
     "execution_count": 138,
     "metadata": {},
     "output_type": "execute_result"
    }
   ],
   "source": [
    "df_ratings_test_pred_x.loc[(df_ratings_test_pred_x['pred_round']==df_ratings_test_pred_x['rating']-1)]"
   ]
  },
  {
   "cell_type": "code",
   "execution_count": 139,
   "metadata": {},
   "outputs": [
    {
     "data": {
      "text/html": [
       "<div>\n",
       "<style scoped>\n",
       "    .dataframe tbody tr th:only-of-type {\n",
       "        vertical-align: middle;\n",
       "    }\n",
       "\n",
       "    .dataframe tbody tr th {\n",
       "        vertical-align: top;\n",
       "    }\n",
       "\n",
       "    .dataframe thead th {\n",
       "        text-align: right;\n",
       "    }\n",
       "</style>\n",
       "<table border=\"1\" class=\"dataframe\">\n",
       "  <thead>\n",
       "    <tr style=\"text-align: right;\">\n",
       "      <th></th>\n",
       "      <th>user_id</th>\n",
       "      <th>business_id</th>\n",
       "      <th>rating</th>\n",
       "      <th>predicted</th>\n",
       "      <th>pred_round</th>\n",
       "    </tr>\n",
       "  </thead>\n",
       "  <tbody>\n",
       "    <tr>\n",
       "      <td>4</td>\n",
       "      <td>oJl-C8UECsibhHS2dB8yzQ</td>\n",
       "      <td>PBmfdx-tC2D54FI3HtcKww</td>\n",
       "      <td>2.0</td>\n",
       "      <td>3.224926</td>\n",
       "      <td>3.0</td>\n",
       "    </tr>\n",
       "    <tr>\n",
       "      <td>8</td>\n",
       "      <td>sMEJUkjyTWQrdUaSBLR-sQ</td>\n",
       "      <td>9A1C1f0m4nQltQrOOTl-Kw</td>\n",
       "      <td>1.0</td>\n",
       "      <td>2.093914</td>\n",
       "      <td>2.0</td>\n",
       "    </tr>\n",
       "    <tr>\n",
       "      <td>11</td>\n",
       "      <td>oWjsGEPgt5qMymvmYoD0VQ</td>\n",
       "      <td>oWQwUw8xfQgi1nVNKgS6vA</td>\n",
       "      <td>3.0</td>\n",
       "      <td>3.793692</td>\n",
       "      <td>4.0</td>\n",
       "    </tr>\n",
       "    <tr>\n",
       "      <td>13</td>\n",
       "      <td>x6Fr3uJgECqvCFIe1d_sXQ</td>\n",
       "      <td>9A1C1f0m4nQltQrOOTl-Kw</td>\n",
       "      <td>2.0</td>\n",
       "      <td>3.044250</td>\n",
       "      <td>3.0</td>\n",
       "    </tr>\n",
       "    <tr>\n",
       "      <td>16</td>\n",
       "      <td>fwvJx2dzm3W9b5ajBYIPHw</td>\n",
       "      <td>KedpWqBphmRopwBd7trzFw</td>\n",
       "      <td>1.0</td>\n",
       "      <td>1.594412</td>\n",
       "      <td>2.0</td>\n",
       "    </tr>\n",
       "    <tr>\n",
       "      <td>...</td>\n",
       "      <td>...</td>\n",
       "      <td>...</td>\n",
       "      <td>...</td>\n",
       "      <td>...</td>\n",
       "      <td>...</td>\n",
       "    </tr>\n",
       "    <tr>\n",
       "      <td>2937</td>\n",
       "      <td>44ZwQqCtNIl79OaVn-sT7A</td>\n",
       "      <td>SUktrYdNQD8k2vvkM4OpfA</td>\n",
       "      <td>3.0</td>\n",
       "      <td>3.893496</td>\n",
       "      <td>4.0</td>\n",
       "    </tr>\n",
       "    <tr>\n",
       "      <td>2938</td>\n",
       "      <td>4zEBlnX60GYJceJ5fEXRtg</td>\n",
       "      <td>LvPbZ_5odnjE_oj5BNHivQ</td>\n",
       "      <td>3.0</td>\n",
       "      <td>4.247043</td>\n",
       "      <td>4.0</td>\n",
       "    </tr>\n",
       "    <tr>\n",
       "      <td>2949</td>\n",
       "      <td>DHiaN7x2UtHXRIcwwMqh0Q</td>\n",
       "      <td>4OABFHxKDYxJh9A2BhoRkg</td>\n",
       "      <td>4.0</td>\n",
       "      <td>5.000000</td>\n",
       "      <td>5.0</td>\n",
       "    </tr>\n",
       "    <tr>\n",
       "      <td>2972</td>\n",
       "      <td>utxFQ-yv3CXxc6KN1SvGJQ</td>\n",
       "      <td>ldKrUirpZZ6JDnNwOwLpvw</td>\n",
       "      <td>1.0</td>\n",
       "      <td>1.769401</td>\n",
       "      <td>2.0</td>\n",
       "    </tr>\n",
       "    <tr>\n",
       "      <td>2998</td>\n",
       "      <td>36TpSKvNT8nKVMUe4OFncw</td>\n",
       "      <td>RAJUQvRLopFmIklzqaUYeA</td>\n",
       "      <td>3.0</td>\n",
       "      <td>3.624949</td>\n",
       "      <td>4.0</td>\n",
       "    </tr>\n",
       "  </tbody>\n",
       "</table>\n",
       "<p>393 rows × 5 columns</p>\n",
       "</div>"
      ],
      "text/plain": [
       "                     user_id             business_id  rating  predicted  \\\n",
       "4     oJl-C8UECsibhHS2dB8yzQ  PBmfdx-tC2D54FI3HtcKww     2.0   3.224926   \n",
       "8     sMEJUkjyTWQrdUaSBLR-sQ  9A1C1f0m4nQltQrOOTl-Kw     1.0   2.093914   \n",
       "11    oWjsGEPgt5qMymvmYoD0VQ  oWQwUw8xfQgi1nVNKgS6vA     3.0   3.793692   \n",
       "13    x6Fr3uJgECqvCFIe1d_sXQ  9A1C1f0m4nQltQrOOTl-Kw     2.0   3.044250   \n",
       "16    fwvJx2dzm3W9b5ajBYIPHw  KedpWqBphmRopwBd7trzFw     1.0   1.594412   \n",
       "...                      ...                     ...     ...        ...   \n",
       "2937  44ZwQqCtNIl79OaVn-sT7A  SUktrYdNQD8k2vvkM4OpfA     3.0   3.893496   \n",
       "2938  4zEBlnX60GYJceJ5fEXRtg  LvPbZ_5odnjE_oj5BNHivQ     3.0   4.247043   \n",
       "2949  DHiaN7x2UtHXRIcwwMqh0Q  4OABFHxKDYxJh9A2BhoRkg     4.0   5.000000   \n",
       "2972  utxFQ-yv3CXxc6KN1SvGJQ  ldKrUirpZZ6JDnNwOwLpvw     1.0   1.769401   \n",
       "2998  36TpSKvNT8nKVMUe4OFncw  RAJUQvRLopFmIklzqaUYeA     3.0   3.624949   \n",
       "\n",
       "      pred_round  \n",
       "4            3.0  \n",
       "8            2.0  \n",
       "11           4.0  \n",
       "13           3.0  \n",
       "16           2.0  \n",
       "...          ...  \n",
       "2937         4.0  \n",
       "2938         4.0  \n",
       "2949         5.0  \n",
       "2972         2.0  \n",
       "2998         4.0  \n",
       "\n",
       "[393 rows x 5 columns]"
      ]
     },
     "execution_count": 139,
     "metadata": {},
     "output_type": "execute_result"
    }
   ],
   "source": [
    "df_ratings_test_pred_x.loc[(df_ratings_test_pred_x['pred_round']==df_ratings_test_pred_x['rating']+1)]"
   ]
  },
  {
   "cell_type": "code",
   "execution_count": 140,
   "metadata": {},
   "outputs": [
    {
     "data": {
      "text/plain": [
       "2220"
      ]
     },
     "execution_count": 140,
     "metadata": {},
     "output_type": "execute_result"
    }
   ],
   "source": [
    "1002+825+393"
   ]
  },
  {
   "cell_type": "markdown",
   "metadata": {},
   "source": [
    "## Rating prediction based on Multi Graph: Other approach"
   ]
  },
  {
   "cell_type": "markdown",
   "metadata": {},
   "source": [
    "There are too many ratings that are not predicted (set to average_train)."
   ]
  },
  {
   "cell_type": "code",
   "execution_count": 117,
   "metadata": {},
   "outputs": [],
   "source": [
    "average_users = []\n",
    "for u in users_list:\n",
    "    avg = df_ratings_train.loc[df_ratings_train['user_id']==u].rating.mean()\n",
    "    if math.isnan(avg):\n",
    "        average_users.append(average_train)\n",
    "    else:\n",
    "        average_users.append(avg)\n"
   ]
  },
  {
   "cell_type": "code",
   "execution_count": 118,
   "metadata": {},
   "outputs": [],
   "source": [
    "def rating_u_i_imp(u,i,G_us_re,G_users,df_sim_1_sc,df_sim_2_sc,average_users):\n",
    "    A = (G_users.degree(u)*G_users.number_of_nodes())/nx.adjacency_matrix(G_users).count_nonzero()\n",
    "    R = (G_us_re.degree(u)*G_users.number_of_nodes())/G_us_re.number_of_edges()\n",
    "    if A+R !=0:\n",
    "        r = R/(A+R)\n",
    "    else:\n",
    "        r=1/2\n",
    "    similarities_1 = np.asarray(df_sim_1_sc[u])\n",
    "    similarities_2 = np.asarray(df_sim_2_sc[u])\n",
    "    ar_sim = r*similarities_1 + (1-r)*similarities_2\n",
    "    \n",
    "    index_u = users_list.index(u)\n",
    "    avg_u = average_users[index_u]\n",
    "    \n",
    "    n,d = 0,0\n",
    "    pred = avg_u\n",
    "    for v in users_list:\n",
    "        index_v = users_list.index(v)\n",
    "        avg_v = average_users[index_v]\n",
    "        rating_v_i = G_us_re.get_edge_data(v,i,default={'weight': 0.0})['weight']\n",
    "        if rating_v_i != 0:\n",
    "            n += ar_sim[index_v]*abs(rating_v_i - avg_v)\n",
    "            d += ar_sim[index_v]\n",
    "    if d !=0:\n",
    "        pred += n/d\n",
    "    return pred\n",
    "    "
   ]
  },
  {
   "cell_type": "code",
   "execution_count": 119,
   "metadata": {},
   "outputs": [],
   "source": [
    "def rating_predictions_imp(df_ratings_test,G_us_re,G_users,df_sim_1_sc,df_sim_2_sc,average_users):\n",
    "    pred = []\n",
    "    for z in range(df_ratings_test.shape[0]):\n",
    "        userid = df_ratings_test['user_id'][z]\n",
    "        businessid = df_ratings_test['business_id'][z]\n",
    "        pred.append(rating_u_i_imp(userid,businessid,G_us_re,G_users,df_sim_1_sc,df_sim_2_sc,average_users))\n",
    "    return pred"
   ]
  },
  {
   "cell_type": "code",
   "execution_count": 120,
   "metadata": {},
   "outputs": [],
   "source": [
    "pred_multi_imp = rating_predictions_imp(df_ratings_test,G_us_re,G_users,df_sim_1_sc,df_sim_2_sc,average_users)\n"
   ]
  },
  {
   "cell_type": "code",
   "execution_count": 121,
   "metadata": {},
   "outputs": [
    {
     "data": {
      "text/plain": [
       "2.8655603797249047"
      ]
     },
     "execution_count": 121,
     "metadata": {},
     "output_type": "execute_result"
    }
   ],
   "source": [
    "mean_squared_error(df_ratings_test['rating'], pred_multi_imp)"
   ]
  },
  {
   "cell_type": "code",
   "execution_count": 122,
   "metadata": {},
   "outputs": [
    {
     "data": {
      "text/plain": [
       "1.2924552661184818"
      ]
     },
     "execution_count": 122,
     "metadata": {},
     "output_type": "execute_result"
    }
   ],
   "source": [
    "mean_absolute_error(df_ratings_test['rating'], pred_multi_imp)"
   ]
  },
  {
   "cell_type": "code",
   "execution_count": 123,
   "metadata": {},
   "outputs": [
    {
     "data": {
      "text/plain": [
       "2871"
      ]
     },
     "execution_count": 123,
     "metadata": {},
     "output_type": "execute_result"
    }
   ],
   "source": [
    "nb_changed_values = df_ratings_test.shape[0]-pred_multi_imp.count(average_train)\n",
    "nb_changed_values"
   ]
  },
  {
   "cell_type": "code",
   "execution_count": 124,
   "metadata": {},
   "outputs": [],
   "source": [
    "df_ratings_test_pred_2 = df_ratings_test[['user_id','business_id','rating']]\n",
    "df_ratings_test_pred_2['predicted'] = pred_multi_imp"
   ]
  },
  {
   "cell_type": "code",
   "execution_count": 125,
   "metadata": {},
   "outputs": [
    {
     "data": {
      "text/html": [
       "<div>\n",
       "<style scoped>\n",
       "    .dataframe tbody tr th:only-of-type {\n",
       "        vertical-align: middle;\n",
       "    }\n",
       "\n",
       "    .dataframe tbody tr th {\n",
       "        vertical-align: top;\n",
       "    }\n",
       "\n",
       "    .dataframe thead th {\n",
       "        text-align: right;\n",
       "    }\n",
       "</style>\n",
       "<table border=\"1\" class=\"dataframe\">\n",
       "  <thead>\n",
       "    <tr style=\"text-align: right;\">\n",
       "      <th></th>\n",
       "      <th>user_id</th>\n",
       "      <th>business_id</th>\n",
       "      <th>rating</th>\n",
       "      <th>predicted</th>\n",
       "    </tr>\n",
       "  </thead>\n",
       "  <tbody>\n",
       "    <tr>\n",
       "      <td>0</td>\n",
       "      <td>6X0i-oGUbh5DZdTHzFuKfg</td>\n",
       "      <td>dHkbBWmXXjaO_-9BgQyEPg</td>\n",
       "      <td>1.0</td>\n",
       "      <td>3.971954</td>\n",
       "    </tr>\n",
       "    <tr>\n",
       "      <td>1</td>\n",
       "      <td>TPFWtsUi_GwNm6BX6vGv5g</td>\n",
       "      <td>F1qPjasn0R6-j8sa6iYNmA</td>\n",
       "      <td>4.0</td>\n",
       "      <td>3.404085</td>\n",
       "    </tr>\n",
       "    <tr>\n",
       "      <td>2</td>\n",
       "      <td>-o-EaM-C3PROpIcwtI_AFw</td>\n",
       "      <td>QxbVPV2xndVP-nT1IRKF1w</td>\n",
       "      <td>2.0</td>\n",
       "      <td>3.502398</td>\n",
       "    </tr>\n",
       "    <tr>\n",
       "      <td>3</td>\n",
       "      <td>CHkneOHkRH9Yf-LY-XlTIg</td>\n",
       "      <td>eJtmOfqwGj5sYKQrB01oWQ</td>\n",
       "      <td>1.0</td>\n",
       "      <td>3.669230</td>\n",
       "    </tr>\n",
       "    <tr>\n",
       "      <td>4</td>\n",
       "      <td>oJl-C8UECsibhHS2dB8yzQ</td>\n",
       "      <td>PBmfdx-tC2D54FI3HtcKww</td>\n",
       "      <td>2.0</td>\n",
       "      <td>4.307118</td>\n",
       "    </tr>\n",
       "    <tr>\n",
       "      <td>...</td>\n",
       "      <td>...</td>\n",
       "      <td>...</td>\n",
       "      <td>...</td>\n",
       "      <td>...</td>\n",
       "    </tr>\n",
       "    <tr>\n",
       "      <td>2995</td>\n",
       "      <td>1LtJ5w7YaxaN0equ3Oq6pw</td>\n",
       "      <td>dIUHCuiAlzkxfgCEOtky8w</td>\n",
       "      <td>5.0</td>\n",
       "      <td>3.624949</td>\n",
       "    </tr>\n",
       "    <tr>\n",
       "      <td>2996</td>\n",
       "      <td>EeOcpXst4ihchMBvNkAoUA</td>\n",
       "      <td>dIUHCuiAlzkxfgCEOtky8w</td>\n",
       "      <td>5.0</td>\n",
       "      <td>3.624949</td>\n",
       "    </tr>\n",
       "    <tr>\n",
       "      <td>2997</td>\n",
       "      <td>Qu_MI93Sxl02KXNj-ylxAQ</td>\n",
       "      <td>E8b-loa-89wsnJpu9ff_Gg</td>\n",
       "      <td>4.0</td>\n",
       "      <td>3.624949</td>\n",
       "    </tr>\n",
       "    <tr>\n",
       "      <td>2998</td>\n",
       "      <td>36TpSKvNT8nKVMUe4OFncw</td>\n",
       "      <td>RAJUQvRLopFmIklzqaUYeA</td>\n",
       "      <td>3.0</td>\n",
       "      <td>3.624949</td>\n",
       "    </tr>\n",
       "    <tr>\n",
       "      <td>2999</td>\n",
       "      <td>lapTa693-7gVGWJ7tnuHfQ</td>\n",
       "      <td>Oe0hWqy0oYQQm5ND6pObGw</td>\n",
       "      <td>5.0</td>\n",
       "      <td>3.624949</td>\n",
       "    </tr>\n",
       "  </tbody>\n",
       "</table>\n",
       "<p>3000 rows × 4 columns</p>\n",
       "</div>"
      ],
      "text/plain": [
       "                     user_id             business_id  rating  predicted\n",
       "0     6X0i-oGUbh5DZdTHzFuKfg  dHkbBWmXXjaO_-9BgQyEPg     1.0   3.971954\n",
       "1     TPFWtsUi_GwNm6BX6vGv5g  F1qPjasn0R6-j8sa6iYNmA     4.0   3.404085\n",
       "2     -o-EaM-C3PROpIcwtI_AFw  QxbVPV2xndVP-nT1IRKF1w     2.0   3.502398\n",
       "3     CHkneOHkRH9Yf-LY-XlTIg  eJtmOfqwGj5sYKQrB01oWQ     1.0   3.669230\n",
       "4     oJl-C8UECsibhHS2dB8yzQ  PBmfdx-tC2D54FI3HtcKww     2.0   4.307118\n",
       "...                      ...                     ...     ...        ...\n",
       "2995  1LtJ5w7YaxaN0equ3Oq6pw  dIUHCuiAlzkxfgCEOtky8w     5.0   3.624949\n",
       "2996  EeOcpXst4ihchMBvNkAoUA  dIUHCuiAlzkxfgCEOtky8w     5.0   3.624949\n",
       "2997  Qu_MI93Sxl02KXNj-ylxAQ  E8b-loa-89wsnJpu9ff_Gg     4.0   3.624949\n",
       "2998  36TpSKvNT8nKVMUe4OFncw  RAJUQvRLopFmIklzqaUYeA     3.0   3.624949\n",
       "2999  lapTa693-7gVGWJ7tnuHfQ  Oe0hWqy0oYQQm5ND6pObGw     5.0   3.624949\n",
       "\n",
       "[3000 rows x 4 columns]"
      ]
     },
     "execution_count": 125,
     "metadata": {},
     "output_type": "execute_result"
    }
   ],
   "source": [
    "df_ratings_test_pred_2"
   ]
  },
  {
   "cell_type": "code",
   "execution_count": 145,
   "metadata": {},
   "outputs": [],
   "source": [
    "df_ratings_test_pred_2_x = df_ratings_test_pred_2.copy()\n",
    "df_ratings_test_pred_2_x['pred_round']= round(df_ratings_test_pred_2_x['predicted'])"
   ]
  },
  {
   "cell_type": "code",
   "execution_count": 146,
   "metadata": {},
   "outputs": [
    {
     "data": {
      "text/plain": [
       "2.9433333333333334"
      ]
     },
     "execution_count": 146,
     "metadata": {},
     "output_type": "execute_result"
    }
   ],
   "source": [
    "mean_squared_error(df_ratings_test_pred_2_x['rating'], df_ratings_test_pred_2_x['pred_round'])"
   ]
  },
  {
   "cell_type": "code",
   "execution_count": 147,
   "metadata": {},
   "outputs": [
    {
     "data": {
      "text/plain": [
       "1.26"
      ]
     },
     "execution_count": 147,
     "metadata": {},
     "output_type": "execute_result"
    }
   ],
   "source": [
    "mean_absolute_error(df_ratings_test_pred_2_x['rating'], df_ratings_test_pred_2_x['pred_round'])"
   ]
  },
  {
   "cell_type": "markdown",
   "metadata": {},
   "source": [
    "## Rating prediction by Regression"
   ]
  },
  {
   "cell_type": "markdown",
   "metadata": {},
   "source": [
    "### Preprocessing"
   ]
  },
  {
   "cell_type": "markdown",
   "metadata": {},
   "source": [
    "#### Users data preprocessing"
   ]
  },
  {
   "cell_type": "code",
   "execution_count": 168,
   "metadata": {},
   "outputs": [],
   "source": [
    "df_users_p=df_users.copy()\n",
    "#reviews\n",
    "df_users_p[\"useful_reviews\"]=df_users[\"useful_reviews\"]/df_users[\"user_review_count\"]\n",
    "df_users_p[\"funny_reviews\"]=df_users[\"funny_reviews\"]/df_users[\"user_review_count\"]\n",
    "df_users_p[\"cool_reviews\"]=df_users[\"cool_reviews\"]/df_users[\"user_review_count\"]\n",
    "#elite->binary encoding\n",
    "df_users_p[\"years_elite\"]=df_users[\"years_elite\"].apply(lambda x: 0 if pd.isna(x) else 1)\n",
    "#days since registration\n",
    "df_users_p[\"user_yelp_since\"]=df_users[\"user_yelp_since\"].apply(lambda x: x.split(\" \")[0])\n",
    "df_users_p[\"user_yelp_since\"]=pd.to_datetime(df_users_p[\"user_yelp_since\"])\n",
    "df_users_p[\"today\"]=[\"2020-01-01\"]*len(df_users)\n",
    "df_users_p[\"today\"]=pd.to_datetime(df_users_p[\"today\"])\n",
    "df_users_p[\"user_yelp_since\"]=(df_users_p[\"today\"]-df_users_p[\"user_yelp_since\"]).dt.days\n",
    "#remove useless columns\n",
    "df_users_p.drop(columns=[\"user_name\",\"friends\",\"today\"],inplace=True)"
   ]
  },
  {
   "cell_type": "markdown",
   "metadata": {},
   "source": [
    "#### Business data preprocessing"
   ]
  },
  {
   "cell_type": "code",
   "execution_count": 169,
   "metadata": {},
   "outputs": [],
   "source": [
    "df_business_p=df_business.copy()\n",
    "\n",
    "#encode categories\n",
    "from sklearn.preprocessing import MultiLabelBinarizer\n",
    "one_hot = MultiLabelBinarizer()\n",
    "\n",
    "df_business[\"categories\"]=df_business[\"categories\"].apply(lambda x:x.split(\",\"))\n",
    "\n",
    "cat_col=one_hot.fit_transform(df_business[\"categories\"])\n",
    "cat_col=pd.DataFrame(cat_col)\n",
    "cat_col.columns=list(one_hot.classes_)\n",
    "\n",
    "#encode city\n",
    "df_business_p[\"business_city\"]=df_business[\"business_city\"].apply(lambda x: x if x in [\"Champaign\",\"Urbana\",\"Rantoul\",\"Mahomet\",\"Savoy\",\"Monticello\"] else \"Other\")\n",
    "df_business_p=pd.get_dummies(df_business_p, columns=[\"business_city\"])\n",
    "\n",
    "#remove useless columns\n",
    "df_business_p.drop(columns=[\"business_name\",\"business_address\",\"business_latitude\",\"business_longitude\",\"categories\",\"business_state\"],inplace=True)"
   ]
  },
  {
   "cell_type": "markdown",
   "metadata": {},
   "source": [
    "#### Ratings data preprocessing"
   ]
  },
  {
   "cell_type": "code",
   "execution_count": 170,
   "metadata": {},
   "outputs": [],
   "source": [
    "df_ratings_cop = df_ratings.copy()\n",
    "df_ratings_cop = df_ratings_cop.groupby(['user_id'])['date'].max()\n",
    "df_ratings_cop = df_ratings_cop.to_frame()\n",
    "df_ratings_cop = df_ratings_cop.reset_index()"
   ]
  },
  {
   "cell_type": "code",
   "execution_count": 171,
   "metadata": {},
   "outputs": [],
   "source": [
    "#days since registration\n",
    "df_ratings_p = df_ratings.copy()\n",
    "df_ratings_p[\"date\"]=pd.to_datetime(df_ratings_p[\"date\"])\n",
    "df_ratings_p[\"today\"]=[\"2020-01-01\"]*len(df_ratings)\n",
    "df_ratings_p[\"today\"]=pd.to_datetime(df_ratings_p[\"today\"])\n",
    "df_ratings_p[\"days_since_rating\"]=(df_ratings_p[\"today\"]-df_ratings_p[\"date\"]).dt.days\n",
    "\n",
    "#removing useless columns\n",
    "df_ratings_p.drop(columns=[\"today\"],inplace=True)"
   ]
  },
  {
   "cell_type": "markdown",
   "metadata": {},
   "source": [
    "#### Merging Dataframes"
   ]
  },
  {
   "cell_type": "code",
   "execution_count": 172,
   "metadata": {},
   "outputs": [],
   "source": [
    "all_df=pd.merge(df_ratings_p,df_users_p,how=\"left\",on='user_id')\n",
    "all_df=pd.merge(all_df,df_business_p,how=\"left\",on=\"business_id\")\n",
    "all_df.drop(columns=[\"business_id\"],inplace=True);"
   ]
  },
  {
   "cell_type": "markdown",
   "metadata": {},
   "source": [
    "### Model training"
   ]
  },
  {
   "cell_type": "markdown",
   "metadata": {},
   "source": [
    "#### Split train test sets"
   ]
  },
  {
   "cell_type": "code",
   "execution_count": 173,
   "metadata": {},
   "outputs": [],
   "source": [
    "df_ratings_cop = all_df.copy()\n",
    "df_ratings_cop = df_ratings_cop.groupby(['user_id'])['date'].max()\n",
    "df_ratings_cop = df_ratings_cop.to_frame()\n",
    "df_ratings_cop = df_ratings_cop.reset_index()\n",
    "\n",
    "all_df['index']=all_df.index\n",
    "all_df_test = pd.merge(all_df, df_ratings_cop, how='right')\n",
    "\n",
    "all_df_test.drop([2327,2328],inplace=True)\n",
    "all_df_test=all_df_test.reset_index(drop=True)\n",
    "all_df_train = all_df.drop(list(all_df_test['index']))\n",
    "\n",
    "all_df_train.drop(columns=[\"date\",\"index\",\"user_id\"],inplace=True)\n",
    "all_df_test.drop(columns=[\"date\",\"index\",\"user_id\"],inplace=True)\n",
    "all_df_train=all_df_train.reset_index(drop=True)"
   ]
  },
  {
   "cell_type": "code",
   "execution_count": 177,
   "metadata": {},
   "outputs": [],
   "source": [
    "x_train,y_train=all_df_train.drop(columns=[\"rating\"]),pd.DataFrame(all_df_train[\"rating\"])\n",
    "x_test,y_test=all_df_test.drop(columns=[\"rating\"]),pd.DataFrame(all_df_test[\"rating\"])"
   ]
  },
  {
   "cell_type": "markdown",
   "metadata": {},
   "source": [
    "#### Cross validation to determine best model"
   ]
  },
  {
   "cell_type": "code",
   "execution_count": 179,
   "metadata": {},
   "outputs": [
    {
     "name": "stdout",
     "output_type": "stream",
     "text": [
      "MSE de la régression avec arbre de décision:  2.31\n",
      "Ecart type:  0.24\n"
     ]
    }
   ],
   "source": [
    "from sklearn.tree import DecisionTreeRegressor\n",
    "from sklearn.model_selection import cross_val_score\n",
    "\n",
    "dtr = DecisionTreeRegressor(random_state=13,criterion=\"mse\",max_depth=20)\n",
    "scores = cross_val_score(dtr, x_train, y_train,cv=10,scoring=\"neg_mean_squared_error\")\n",
    "mse_scores = -scores\n",
    "print(\"MSE de la régression avec arbre de décision: \",round(mse_scores.mean(),2))\n",
    "print(\"Ecart type: \",round(mse_scores.std(),2))"
   ]
  },
  {
   "cell_type": "code",
   "execution_count": 180,
   "metadata": {},
   "outputs": [
    {
     "name": "stdout",
     "output_type": "stream",
     "text": [
      "MSE de la régression linéaire:  1.17\n",
      "Ecart type:  0.1\n"
     ]
    }
   ],
   "source": [
    "from sklearn.linear_model import LinearRegression\n",
    "\n",
    "linreg = LinearRegression()\n",
    "scores = cross_val_score(linreg, x_train, y_train,cv=10,scoring=\"neg_mean_squared_error\")\n",
    "mse_scores = -scores\n",
    "print(\"MSE de la régression linéaire: \",round(mse_scores.mean(),2))\n",
    "print(\"Ecart type: \",round(mse_scores.std(),2))"
   ]
  },
  {
   "cell_type": "code",
   "execution_count": 181,
   "metadata": {
    "scrolled": false
   },
   "outputs": [
    {
     "name": "stderr",
     "output_type": "stream",
     "text": [
      "/opt/anaconda3/lib/python3.7/site-packages/sklearn/model_selection/_validation.py:516: DataConversionWarning: A column-vector y was passed when a 1d array was expected. Please change the shape of y to (n_samples,), for example using ravel().\n",
      "  estimator.fit(X_train, y_train, **fit_params)\n",
      "/opt/anaconda3/lib/python3.7/site-packages/sklearn/model_selection/_validation.py:516: DataConversionWarning: A column-vector y was passed when a 1d array was expected. Please change the shape of y to (n_samples,), for example using ravel().\n",
      "  estimator.fit(X_train, y_train, **fit_params)\n",
      "/opt/anaconda3/lib/python3.7/site-packages/sklearn/model_selection/_validation.py:516: DataConversionWarning: A column-vector y was passed when a 1d array was expected. Please change the shape of y to (n_samples,), for example using ravel().\n",
      "  estimator.fit(X_train, y_train, **fit_params)\n",
      "/opt/anaconda3/lib/python3.7/site-packages/sklearn/model_selection/_validation.py:516: DataConversionWarning: A column-vector y was passed when a 1d array was expected. Please change the shape of y to (n_samples,), for example using ravel().\n",
      "  estimator.fit(X_train, y_train, **fit_params)\n",
      "/opt/anaconda3/lib/python3.7/site-packages/sklearn/model_selection/_validation.py:516: DataConversionWarning: A column-vector y was passed when a 1d array was expected. Please change the shape of y to (n_samples,), for example using ravel().\n",
      "  estimator.fit(X_train, y_train, **fit_params)\n",
      "/opt/anaconda3/lib/python3.7/site-packages/sklearn/model_selection/_validation.py:516: DataConversionWarning: A column-vector y was passed when a 1d array was expected. Please change the shape of y to (n_samples,), for example using ravel().\n",
      "  estimator.fit(X_train, y_train, **fit_params)\n",
      "/opt/anaconda3/lib/python3.7/site-packages/sklearn/model_selection/_validation.py:516: DataConversionWarning: A column-vector y was passed when a 1d array was expected. Please change the shape of y to (n_samples,), for example using ravel().\n",
      "  estimator.fit(X_train, y_train, **fit_params)\n",
      "/opt/anaconda3/lib/python3.7/site-packages/sklearn/model_selection/_validation.py:516: DataConversionWarning: A column-vector y was passed when a 1d array was expected. Please change the shape of y to (n_samples,), for example using ravel().\n",
      "  estimator.fit(X_train, y_train, **fit_params)\n",
      "/opt/anaconda3/lib/python3.7/site-packages/sklearn/model_selection/_validation.py:516: DataConversionWarning: A column-vector y was passed when a 1d array was expected. Please change the shape of y to (n_samples,), for example using ravel().\n",
      "  estimator.fit(X_train, y_train, **fit_params)\n",
      "/opt/anaconda3/lib/python3.7/site-packages/sklearn/model_selection/_validation.py:516: DataConversionWarning: A column-vector y was passed when a 1d array was expected. Please change the shape of y to (n_samples,), for example using ravel().\n",
      "  estimator.fit(X_train, y_train, **fit_params)\n"
     ]
    },
    {
     "name": "stdout",
     "output_type": "stream",
     "text": [
      "MSE de la régression random forest:  1.21\n",
      "Ecart type:  0.11\n"
     ]
    }
   ],
   "source": [
    "from sklearn.ensemble import RandomForestRegressor\n",
    "rdmforestr = RandomForestRegressor(random_state=13,criterion=\"mse\",max_depth=15,n_estimators=100)\n",
    "scores = cross_val_score(rdmforestr, x_train, y_train,cv=10,scoring=\"neg_mean_squared_error\")\n",
    "mse_scores = -scores\n",
    "print(\"MSE de la régression random forest: \",round(mse_scores.mean(),2))\n",
    "print(\"Ecart type: \",round(mse_scores.std(),2))"
   ]
  },
  {
   "cell_type": "code",
   "execution_count": 183,
   "metadata": {},
   "outputs": [
    {
     "name": "stdout",
     "output_type": "stream",
     "text": [
      "MSE de la régression LGBM:  1.18\n",
      "Ecart type:  0.1\n"
     ]
    }
   ],
   "source": [
    "from lightgbm import LGBMRegressor\n",
    "lgbm = LGBMRegressor(boosting_type=\"gbdt\",\n",
    "                      max_depth = 20,\n",
    "                      colsample_bytree=.9,\n",
    "                      n_estimators = 150,\n",
    "                      #min_child_samples=10,\n",
    "                      #subsample=.9,\n",
    "                      subsample_freq=1,\n",
    "                      reg_alpha=0, \n",
    "                      reg_lambda=1,\n",
    "                      n_jobs=-1,\n",
    "                      tree_learner='voting',\n",
    "                      max_bin = 100,\n",
    "                      min_gain_to_split = .5)\n",
    "scores = cross_val_score(lgbm, x_train, y_train,cv=10,scoring=\"neg_mean_squared_error\")\n",
    "mse_scores = -scores\n",
    "print(\"MSE de la régression LGBM: \",round(mse_scores.mean(),2))\n",
    "print(\"Ecart type: \",round(mse_scores.std(),2))"
   ]
  },
  {
   "cell_type": "code",
   "execution_count": 184,
   "metadata": {},
   "outputs": [
    {
     "name": "stderr",
     "output_type": "stream",
     "text": [
      "/opt/anaconda3/lib/python3.7/site-packages/sklearn/model_selection/_search.py:715: DataConversionWarning: A column-vector y was passed when a 1d array was expected. Please change the shape of y to (n_samples,), for example using ravel().\n",
      "  self.best_estimator_.fit(X, y, **fit_params)\n"
     ]
    },
    {
     "data": {
      "text/plain": [
       "GridSearchCV(cv=10, error_score='raise-deprecating',\n",
       "             estimator=RandomForestRegressor(bootstrap=True, criterion='mse',\n",
       "                                             max_depth=None,\n",
       "                                             max_features='auto',\n",
       "                                             max_leaf_nodes=None,\n",
       "                                             min_impurity_decrease=0.0,\n",
       "                                             min_impurity_split=None,\n",
       "                                             min_samples_leaf=1,\n",
       "                                             min_samples_split=2,\n",
       "                                             min_weight_fraction_leaf=0.0,\n",
       "                                             n_estimators='warn', n_jobs=None,\n",
       "                                             oob_score=False, random_state=None,\n",
       "                                             verbose=0, warm_start=False),\n",
       "             iid='warn', n_jobs=-1,\n",
       "             param_grid={'max_depth': [10, 15, 20, 25],\n",
       "                         'n_estimators': [75, 100, 125]},\n",
       "             pre_dispatch='2*n_jobs', refit=True, return_train_score=False,\n",
       "             scoring='neg_mean_squared_error', verbose=0)"
      ]
     },
     "execution_count": 184,
     "metadata": {},
     "output_type": "execute_result"
    }
   ],
   "source": [
    "from sklearn.model_selection import GridSearchCV\n",
    "\n",
    "grid = {'max_depth':[10,15,20,25],\n",
    "        'n_estimators':[75,100,125]}\n",
    "\n",
    "rfr = RandomForestRegressor(criterion=\"mse\")\n",
    "\n",
    "gridsearchrf = GridSearchCV(rfr, param_grid = grid, scoring='neg_mean_squared_error', n_jobs=-1, cv=10)\n",
    "gridsearchrf.fit(x_train, y_train)"
   ]
  },
  {
   "cell_type": "code",
   "execution_count": 185,
   "metadata": {},
   "outputs": [],
   "source": [
    "from sklearn.model_selection import GridSearchCV\n",
    "\n",
    "grid = {'max_depth':[8,10,12,14,16,18],\n",
    "        'reg_lambda':[0.5, 1, 3, 5, 10],\n",
    "        'n_estimators':[50,100,150]}\n",
    "\n",
    "lgbm = LGBMRegressor(boosting_type=\"gbdt\",\n",
    "                      #max_depth = 15,\n",
    "                      colsample_bytree=.9,\n",
    "                      #n_estimators = 100,\n",
    "                      #min_child_samples=10,\n",
    "                      #subsample=.9,\n",
    "                      subsample_freq=1,\n",
    "                      reg_alpha=0, \n",
    "                      #reg_lambda=1,\n",
    "                      n_jobs=-1,\n",
    "                      tree_learner='voting',\n",
    "                      max_bin = 100,\n",
    "                      min_gain_to_split = .5)\n",
    "\n",
    "gridsearch = GridSearchCV(lgbm, param_grid = grid, scoring='neg_mean_squared_error', n_jobs=-1, cv=10)\n",
    "gridsearch.fit(x_train, y_train);"
   ]
  },
  {
   "cell_type": "markdown",
   "metadata": {},
   "source": [
    "#### Performance evaluation"
   ]
  },
  {
   "cell_type": "markdown",
   "metadata": {},
   "source": [
    "Lgbm not tuned"
   ]
  },
  {
   "cell_type": "code",
   "execution_count": 189,
   "metadata": {},
   "outputs": [
    {
     "name": "stdout",
     "output_type": "stream",
     "text": [
      "MSE test set:  1.3\n",
      "MAE test set:  0.9\n"
     ]
    }
   ],
   "source": [
    "lgbm.fit(x_train,y_train)\n",
    "y_pred=lgbm.predict(x_test)\n",
    "print(\"MSE test set: \", round(mean_squared_error(y_test, y_pred),2))\n",
    "print(\"MAE test set: \", round(mean_absolute_error(y_test, y_pred),2))"
   ]
  },
  {
   "cell_type": "markdown",
   "metadata": {},
   "source": [
    "Random Forest regressor not tuned"
   ]
  },
  {
   "cell_type": "code",
   "execution_count": 190,
   "metadata": {},
   "outputs": [
    {
     "name": "stderr",
     "output_type": "stream",
     "text": [
      "/opt/anaconda3/lib/python3.7/site-packages/ipykernel_launcher.py:1: DataConversionWarning: A column-vector y was passed when a 1d array was expected. Please change the shape of y to (n_samples,), for example using ravel().\n",
      "  \"\"\"Entry point for launching an IPython kernel.\n"
     ]
    },
    {
     "name": "stdout",
     "output_type": "stream",
     "text": [
      "MSE test set:  1.35\n",
      "MAE test set:  0.92\n"
     ]
    }
   ],
   "source": [
    "rdmforestr.fit(x_train,y_train)\n",
    "y_pred=rdmforestr.predict(x_test)\n",
    "print(\"MSE test set: \", round(mean_squared_error(y_test, y_pred),2))\n",
    "print(\"MAE test set: \", round(mean_absolute_error(y_test, y_pred),2))"
   ]
  },
  {
   "cell_type": "markdown",
   "metadata": {},
   "source": [
    "Random Forest Regressor tuned"
   ]
  },
  {
   "cell_type": "code",
   "execution_count": 191,
   "metadata": {},
   "outputs": [
    {
     "name": "stderr",
     "output_type": "stream",
     "text": [
      "/opt/anaconda3/lib/python3.7/site-packages/ipykernel_launcher.py:2: DataConversionWarning: A column-vector y was passed when a 1d array was expected. Please change the shape of y to (n_samples,), for example using ravel().\n",
      "  \n"
     ]
    },
    {
     "name": "stdout",
     "output_type": "stream",
     "text": [
      "MSE test set:  1.31\n",
      "MAE test set:  0.9\n"
     ]
    }
   ],
   "source": [
    "rf=gridsearchrf.best_estimator_\n",
    "rf.fit(x_train,y_train)\n",
    "y_pred=rf.predict(x_test)\n",
    "print(\"MSE test set: \", round(mean_squared_error(y_test, y_pred),2))\n",
    "print(\"MAE test set: \", round(mean_absolute_error(y_test, y_pred),2))"
   ]
  }
 ],
 "metadata": {
  "kernelspec": {
   "display_name": "Python 3",
   "language": "python",
   "name": "python3"
  },
  "language_info": {
   "codemirror_mode": {
    "name": "ipython",
    "version": 3
   },
   "file_extension": ".py",
   "mimetype": "text/x-python",
   "name": "python",
   "nbconvert_exporter": "python",
   "pygments_lexer": "ipython3",
   "version": "3.7.4"
  }
 },
 "nbformat": 4,
 "nbformat_minor": 2
}
